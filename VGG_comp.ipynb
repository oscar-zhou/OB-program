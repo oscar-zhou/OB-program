{
 "cells": [
  {
   "cell_type": "code",
   "execution_count": null,
   "metadata": {},
   "outputs": [],
   "source": [
    "#更動測試"
   ]
  },
  {
   "cell_type": "code",
   "execution_count": 1,
   "metadata": {},
   "outputs": [
    {
     "name": "stderr",
     "output_type": "stream",
     "text": [
      "/opt/anaconda3/envs/torch8019/lib/python3.7/site-packages/tqdm/auto.py:22: TqdmWarning: IProgress not found. Please update jupyter and ipywidgets. See https://ipywidgets.readthedocs.io/en/stable/user_install.html\n",
      "  from .autonotebook import tqdm as notebook_tqdm\n"
     ]
    }
   ],
   "source": [
    "import torch"
   ]
  },
  {
   "cell_type": "code",
   "execution_count": 2,
   "metadata": {},
   "outputs": [],
   "source": [
    "import pandas as pd\n",
    "import torch\n",
    "from torchvision import transforms\n",
    "from PIL import Image\n",
    "import os\n",
    "from tqdm import tqdm\n",
    "import cv2\n",
    "import numpy as np\n",
    "from torchvision import datasets, transforms\n",
    "\n",
    "import torch.nn as nn\n",
    "from torchvision import models\n",
    "import torch.optim as optim\n",
    "from torch.autograd import Variable\n"
   ]
  },
  {
   "cell_type": "code",
   "execution_count": 18,
   "metadata": {},
   "outputs": [
    {
     "name": "stdout",
     "output_type": "stream",
     "text": [
      "  head_label tail_label        head_name          tail_name      ans\n",
      "0    AB13185     BA6246  菱形幾合印花V領特殊袖雪紡上衣    純色高含棉拼接排釦腰鬆緊寬褲裙      fit\n",
      "1    AB13185     BA6277  菱形幾合印花V領特殊袖雪紡上衣       滿版碎花吊帶連身寬版長褲  not_fit\n",
      "2    AB13185     BA6383  菱形幾合印花V領特殊袖雪紡上衣  韓系彈力造型腰頭雙釦設計窄管牛仔褲      fit\n",
      "3    AB13185     CA2244  菱形幾合印花V領特殊袖雪紡上衣     高含棉修身高腰後鬆緊A字長裙      fit\n",
      "4    AB13185     BA6171  菱形幾合印花V領特殊袖雪紡上衣          彈力修身九分哈倫褲      fit\n",
      "       head_label tail_label        head_name       tail_name   ans\n",
      "count        5000       5000             5000            5000  5000\n",
      "unique        250        512              250             511     3\n",
      "top       AB13185     BA6183  菱形幾合印花V領特殊袖雪紡上衣  純色含棉修身後鬆緊五分短寬褲   fit\n",
      "freq           20         20               20              20  4134\n"
     ]
    }
   ],
   "source": [
    "ss = pd.read_csv(\"21ss.csv\",encoding='utf-8')\n",
    "print(ss.head())\n",
    "print(ss.describe())"
   ]
  },
  {
   "cell_type": "code",
   "execution_count": 29,
   "metadata": {},
   "outputs": [
    {
     "name": "stdout",
     "output_type": "stream",
     "text": [
      "  head_label tail_label             head_name             tail_name      ans\n",
      "0    AB12289     BA6034  純色翻領壓褶貝殼排扣荷葉七分袖/短袖上衣    純色高含棉坑條燈芯絨腰鬆緊五分短寬褲      fit\n",
      "1    AB12289     CA2163  純色翻領壓褶貝殼排扣荷葉七分袖/短袖上衣      優雅蕾絲不易皺後腰鬆緊斜開岔短裙      fit\n",
      "2    AB12289     BA5836  純色翻領壓褶貝殼排扣荷葉七分袖/短袖上衣        柔軟質感天絲棉丹寧落地大寬褲      fit\n",
      "3    AB12289     BA5840  純色翻領壓褶貝殼排扣荷葉七分袖/短袖上衣  簡約知性立挺打褶造型西裝短褲．附質感皮帶      fit\n",
      "4    AB12289     BA5861  純色翻領壓褶貝殼排扣荷葉七分袖/短袖上衣     休閒彈力英字印花窄管緊身長褲內搭褲  not_fit\n",
      "       head_label tail_label        head_name            tail_name   ans\n",
      "count        5000       5000             5000                 5000  5000\n",
      "unique        250        567              248                  564     3\n",
      "top       AB12289     BA5888  高含棉長版配色格紋長袖襯衫上衣  牛仔彈力造型高腰收腹割破不收邊緊身長褲   fit\n",
      "freq           20         19               40                   28  2881\n",
      "<class 'pandas.core.frame.DataFrame'>\n",
      "RangeIndex: 5000 entries, 0 to 4999\n",
      "Data columns (total 5 columns):\n",
      " #   Column      Non-Null Count  Dtype \n",
      "---  ------      --------------  ----- \n",
      " 0   head_label  5000 non-null   object\n",
      " 1   tail_label  5000 non-null   object\n",
      " 2   head_name   5000 non-null   object\n",
      " 3   tail_name   5000 non-null   object\n",
      " 4   ans         5000 non-null   object\n",
      "dtypes: object(5)\n",
      "memory usage: 195.4+ KB\n",
      "None\n"
     ]
    }
   ],
   "source": [
    "aw = pd.read_table(\"20aw.csv\",sep=',')\n",
    "print(aw.head())\n",
    "print(aw.describe())\n",
    "print(aw.info())"
   ]
  },
  {
   "cell_type": "code",
   "execution_count": 27,
   "metadata": {},
   "outputs": [
    {
     "data": {
      "text/html": [
       "<div>\n",
       "<style scoped>\n",
       "    .dataframe tbody tr th:only-of-type {\n",
       "        vertical-align: middle;\n",
       "    }\n",
       "\n",
       "    .dataframe tbody tr th {\n",
       "        vertical-align: top;\n",
       "    }\n",
       "\n",
       "    .dataframe thead th {\n",
       "        text-align: right;\n",
       "    }\n",
       "</style>\n",
       "<table border=\"1\" class=\"dataframe\">\n",
       "  <thead>\n",
       "    <tr style=\"text-align: right;\">\n",
       "      <th></th>\n",
       "      <th>head_label</th>\n",
       "      <th>tail_label</th>\n",
       "      <th>head_name</th>\n",
       "      <th>tail_name</th>\n",
       "      <th>ans</th>\n",
       "    </tr>\n",
       "  </thead>\n",
       "  <tbody>\n",
       "    <tr>\n",
       "      <th>0</th>\n",
       "      <td>AB13185</td>\n",
       "      <td>BA6246</td>\n",
       "      <td>菱形幾合印花V領特殊袖雪紡上衣</td>\n",
       "      <td>純色高含棉拼接排釦腰鬆緊寬褲裙</td>\n",
       "      <td>fit</td>\n",
       "    </tr>\n",
       "    <tr>\n",
       "      <th>1</th>\n",
       "      <td>AB13185</td>\n",
       "      <td>BA6277</td>\n",
       "      <td>菱形幾合印花V領特殊袖雪紡上衣</td>\n",
       "      <td>滿版碎花吊帶連身寬版長褲</td>\n",
       "      <td>not_fit</td>\n",
       "    </tr>\n",
       "    <tr>\n",
       "      <th>2</th>\n",
       "      <td>AB13185</td>\n",
       "      <td>BA6383</td>\n",
       "      <td>菱形幾合印花V領特殊袖雪紡上衣</td>\n",
       "      <td>韓系彈力造型腰頭雙釦設計窄管牛仔褲</td>\n",
       "      <td>fit</td>\n",
       "    </tr>\n",
       "    <tr>\n",
       "      <th>3</th>\n",
       "      <td>AB13185</td>\n",
       "      <td>CA2244</td>\n",
       "      <td>菱形幾合印花V領特殊袖雪紡上衣</td>\n",
       "      <td>高含棉修身高腰後鬆緊A字長裙</td>\n",
       "      <td>fit</td>\n",
       "    </tr>\n",
       "    <tr>\n",
       "      <th>4</th>\n",
       "      <td>AB13185</td>\n",
       "      <td>BA6171</td>\n",
       "      <td>菱形幾合印花V領特殊袖雪紡上衣</td>\n",
       "      <td>彈力修身九分哈倫褲</td>\n",
       "      <td>fit</td>\n",
       "    </tr>\n",
       "    <tr>\n",
       "      <th>...</th>\n",
       "      <td>...</td>\n",
       "      <td>...</td>\n",
       "      <td>...</td>\n",
       "      <td>...</td>\n",
       "      <td>...</td>\n",
       "    </tr>\n",
       "    <tr>\n",
       "      <th>9995</th>\n",
       "      <td>QA1179</td>\n",
       "      <td>BA5937</td>\n",
       "      <td>親子系列~可愛貓咪耳內刷毛造型衛衣/連帽上衣</td>\n",
       "      <td>彈力高腰造型排釦腰頭緊身牛仔長褲</td>\n",
       "      <td>wrong</td>\n",
       "    </tr>\n",
       "    <tr>\n",
       "      <th>9996</th>\n",
       "      <td>QA1179</td>\n",
       "      <td>CA2203</td>\n",
       "      <td>親子系列~可愛貓咪耳內刷毛造型衛衣/連帽上衣</td>\n",
       "      <td>滿版小碎花層次荷葉鬆緊傘襬A字長裙(厚絨內裡)</td>\n",
       "      <td>wrong</td>\n",
       "    </tr>\n",
       "    <tr>\n",
       "      <th>9997</th>\n",
       "      <td>QA1179</td>\n",
       "      <td>BA6029</td>\n",
       "      <td>親子系列~可愛貓咪耳內刷毛造型衛衣/連帽上衣</td>\n",
       "      <td>彈力混色斜紋毛呢腰鬆緊直筒西裝褲/長褲</td>\n",
       "      <td>wrong</td>\n",
       "    </tr>\n",
       "    <tr>\n",
       "      <th>9998</th>\n",
       "      <td>QA1179</td>\n",
       "      <td>QA1110</td>\n",
       "      <td>親子系列~可愛貓咪耳內刷毛造型衛衣/連帽上衣</td>\n",
       "      <td>童趣感純棉好動縮口褲</td>\n",
       "      <td>wrong</td>\n",
       "    </tr>\n",
       "    <tr>\n",
       "      <th>9999</th>\n",
       "      <td>QA1179</td>\n",
       "      <td>BA5625</td>\n",
       "      <td>親子系列~可愛貓咪耳內刷毛造型衛衣/連帽上衣</td>\n",
       "      <td>高含棉．率性抓破後腰鬆緊復古小喇叭丹寧/牛仔褲</td>\n",
       "      <td>wrong</td>\n",
       "    </tr>\n",
       "  </tbody>\n",
       "</table>\n",
       "<p>10000 rows × 5 columns</p>\n",
       "</div>"
      ],
      "text/plain": [
       "     head_label tail_label               head_name                tail_name  \\\n",
       "0       AB13185     BA6246         菱形幾合印花V領特殊袖雪紡上衣          純色高含棉拼接排釦腰鬆緊寬褲裙   \n",
       "1       AB13185     BA6277         菱形幾合印花V領特殊袖雪紡上衣             滿版碎花吊帶連身寬版長褲   \n",
       "2       AB13185     BA6383         菱形幾合印花V領特殊袖雪紡上衣        韓系彈力造型腰頭雙釦設計窄管牛仔褲   \n",
       "3       AB13185     CA2244         菱形幾合印花V領特殊袖雪紡上衣           高含棉修身高腰後鬆緊A字長裙   \n",
       "4       AB13185     BA6171         菱形幾合印花V領特殊袖雪紡上衣                彈力修身九分哈倫褲   \n",
       "...         ...        ...                     ...                      ...   \n",
       "9995     QA1179     BA5937  親子系列~可愛貓咪耳內刷毛造型衛衣/連帽上衣         彈力高腰造型排釦腰頭緊身牛仔長褲   \n",
       "9996     QA1179     CA2203  親子系列~可愛貓咪耳內刷毛造型衛衣/連帽上衣  滿版小碎花層次荷葉鬆緊傘襬A字長裙(厚絨內裡)   \n",
       "9997     QA1179     BA6029  親子系列~可愛貓咪耳內刷毛造型衛衣/連帽上衣      彈力混色斜紋毛呢腰鬆緊直筒西裝褲/長褲   \n",
       "9998     QA1179     QA1110  親子系列~可愛貓咪耳內刷毛造型衛衣/連帽上衣               童趣感純棉好動縮口褲   \n",
       "9999     QA1179     BA5625  親子系列~可愛貓咪耳內刷毛造型衛衣/連帽上衣  高含棉．率性抓破後腰鬆緊復古小喇叭丹寧/牛仔褲   \n",
       "\n",
       "          ans  \n",
       "0         fit  \n",
       "1     not_fit  \n",
       "2         fit  \n",
       "3         fit  \n",
       "4         fit  \n",
       "...       ...  \n",
       "9995    wrong  \n",
       "9996    wrong  \n",
       "9997    wrong  \n",
       "9998    wrong  \n",
       "9999    wrong  \n",
       "\n",
       "[10000 rows x 5 columns]"
      ]
     },
     "execution_count": 27,
     "metadata": {},
     "output_type": "execute_result"
    }
   ],
   "source": [
    "aw_ss = pd.concat([ss,aw],axis=0)\n",
    "aw_ss = aw_ss.reset_index(drop=True)\n",
    "aw_ss"
   ]
  },
  {
   "cell_type": "code",
   "execution_count": 28,
   "metadata": {},
   "outputs": [],
   "source": [
    "aw_ss.to_csv(\"all_sample.csv\",encoding='utf-8')"
   ]
  },
  {
   "cell_type": "code",
   "execution_count": 12,
   "metadata": {},
   "outputs": [
    {
     "data": {
      "text/html": [
       "<div>\n",
       "<style scoped>\n",
       "    .dataframe tbody tr th:only-of-type {\n",
       "        vertical-align: middle;\n",
       "    }\n",
       "\n",
       "    .dataframe tbody tr th {\n",
       "        vertical-align: top;\n",
       "    }\n",
       "\n",
       "    .dataframe thead th {\n",
       "        text-align: right;\n",
       "    }\n",
       "</style>\n",
       "<table border=\"1\" class=\"dataframe\">\n",
       "  <thead>\n",
       "    <tr style=\"text-align: right;\">\n",
       "      <th></th>\n",
       "      <th>head_label</th>\n",
       "      <th>tail_label</th>\n",
       "      <th>head_name</th>\n",
       "      <th>tail_name</th>\n",
       "      <th>ans</th>\n",
       "    </tr>\n",
       "  </thead>\n",
       "  <tbody>\n",
       "    <tr>\n",
       "      <th>0</th>\n",
       "      <td>AB13185</td>\n",
       "      <td>BA6246</td>\n",
       "      <td>菱形幾合印花V領特殊袖雪紡上衣</td>\n",
       "      <td>純色高含棉拼接排釦腰鬆緊寬褲裙</td>\n",
       "      <td>fit</td>\n",
       "    </tr>\n",
       "    <tr>\n",
       "      <th>1</th>\n",
       "      <td>AB13185</td>\n",
       "      <td>BA6277</td>\n",
       "      <td>菱形幾合印花V領特殊袖雪紡上衣</td>\n",
       "      <td>滿版碎花吊帶連身寬版長褲</td>\n",
       "      <td>not_fit</td>\n",
       "    </tr>\n",
       "    <tr>\n",
       "      <th>2</th>\n",
       "      <td>AB13185</td>\n",
       "      <td>BA6383</td>\n",
       "      <td>菱形幾合印花V領特殊袖雪紡上衣</td>\n",
       "      <td>韓系彈力造型腰頭雙釦設計窄管牛仔褲</td>\n",
       "      <td>fit</td>\n",
       "    </tr>\n",
       "    <tr>\n",
       "      <th>3</th>\n",
       "      <td>AB13185</td>\n",
       "      <td>CA2244</td>\n",
       "      <td>菱形幾合印花V領特殊袖雪紡上衣</td>\n",
       "      <td>高含棉修身高腰後鬆緊A字長裙</td>\n",
       "      <td>fit</td>\n",
       "    </tr>\n",
       "    <tr>\n",
       "      <th>4</th>\n",
       "      <td>AB13185</td>\n",
       "      <td>BA6171</td>\n",
       "      <td>菱形幾合印花V領特殊袖雪紡上衣</td>\n",
       "      <td>彈力修身九分哈倫褲</td>\n",
       "      <td>fit</td>\n",
       "    </tr>\n",
       "    <tr>\n",
       "      <th>...</th>\n",
       "      <td>...</td>\n",
       "      <td>...</td>\n",
       "      <td>...</td>\n",
       "      <td>...</td>\n",
       "      <td>...</td>\n",
       "    </tr>\n",
       "    <tr>\n",
       "      <th>9995</th>\n",
       "      <td>QA1179</td>\n",
       "      <td>BA5937</td>\n",
       "      <td>親子系列~可愛貓咪耳內刷毛造型衛衣/連帽上衣</td>\n",
       "      <td>彈力高腰造型排釦腰頭緊身牛仔長褲</td>\n",
       "      <td>not_fit</td>\n",
       "    </tr>\n",
       "    <tr>\n",
       "      <th>9996</th>\n",
       "      <td>QA1179</td>\n",
       "      <td>CA2203</td>\n",
       "      <td>親子系列~可愛貓咪耳內刷毛造型衛衣/連帽上衣</td>\n",
       "      <td>滿版小碎花層次荷葉鬆緊傘襬A字長裙(厚絨內裡)</td>\n",
       "      <td>not_fit</td>\n",
       "    </tr>\n",
       "    <tr>\n",
       "      <th>9997</th>\n",
       "      <td>QA1179</td>\n",
       "      <td>BA6029</td>\n",
       "      <td>親子系列~可愛貓咪耳內刷毛造型衛衣/連帽上衣</td>\n",
       "      <td>彈力混色斜紋毛呢腰鬆緊直筒西裝褲/長褲</td>\n",
       "      <td>not_fit</td>\n",
       "    </tr>\n",
       "    <tr>\n",
       "      <th>9998</th>\n",
       "      <td>QA1179</td>\n",
       "      <td>QA1110</td>\n",
       "      <td>親子系列~可愛貓咪耳內刷毛造型衛衣/連帽上衣</td>\n",
       "      <td>童趣感純棉好動縮口褲</td>\n",
       "      <td>not_fit</td>\n",
       "    </tr>\n",
       "    <tr>\n",
       "      <th>9999</th>\n",
       "      <td>QA1179</td>\n",
       "      <td>BA5625</td>\n",
       "      <td>親子系列~可愛貓咪耳內刷毛造型衛衣/連帽上衣</td>\n",
       "      <td>高含棉．率性抓破後腰鬆緊復古小喇叭丹寧/牛仔褲</td>\n",
       "      <td>not_fit</td>\n",
       "    </tr>\n",
       "  </tbody>\n",
       "</table>\n",
       "<p>10000 rows × 5 columns</p>\n",
       "</div>"
      ],
      "text/plain": [
       "     head_label tail_label               head_name                tail_name  \\\n",
       "0       AB13185     BA6246         菱形幾合印花V領特殊袖雪紡上衣          純色高含棉拼接排釦腰鬆緊寬褲裙   \n",
       "1       AB13185     BA6277         菱形幾合印花V領特殊袖雪紡上衣             滿版碎花吊帶連身寬版長褲   \n",
       "2       AB13185     BA6383         菱形幾合印花V領特殊袖雪紡上衣        韓系彈力造型腰頭雙釦設計窄管牛仔褲   \n",
       "3       AB13185     CA2244         菱形幾合印花V領特殊袖雪紡上衣           高含棉修身高腰後鬆緊A字長裙   \n",
       "4       AB13185     BA6171         菱形幾合印花V領特殊袖雪紡上衣                彈力修身九分哈倫褲   \n",
       "...         ...        ...                     ...                      ...   \n",
       "9995     QA1179     BA5937  親子系列~可愛貓咪耳內刷毛造型衛衣/連帽上衣         彈力高腰造型排釦腰頭緊身牛仔長褲   \n",
       "9996     QA1179     CA2203  親子系列~可愛貓咪耳內刷毛造型衛衣/連帽上衣  滿版小碎花層次荷葉鬆緊傘襬A字長裙(厚絨內裡)   \n",
       "9997     QA1179     BA6029  親子系列~可愛貓咪耳內刷毛造型衛衣/連帽上衣      彈力混色斜紋毛呢腰鬆緊直筒西裝褲/長褲   \n",
       "9998     QA1179     QA1110  親子系列~可愛貓咪耳內刷毛造型衛衣/連帽上衣               童趣感純棉好動縮口褲   \n",
       "9999     QA1179     BA5625  親子系列~可愛貓咪耳內刷毛造型衛衣/連帽上衣  高含棉．率性抓破後腰鬆緊復古小喇叭丹寧/牛仔褲   \n",
       "\n",
       "          ans  \n",
       "0         fit  \n",
       "1     not_fit  \n",
       "2         fit  \n",
       "3         fit  \n",
       "4         fit  \n",
       "...       ...  \n",
       "9995  not_fit  \n",
       "9996  not_fit  \n",
       "9997  not_fit  \n",
       "9998  not_fit  \n",
       "9999  not_fit  \n",
       "\n",
       "[10000 rows x 5 columns]"
      ]
     },
     "execution_count": 12,
     "metadata": {},
     "output_type": "execute_result"
    }
   ],
   "source": [
    "#把wrong變成no_fit 因為wrong也算是no_fit\n",
    "all_sample=pd.read_csv(\"all_sample.csv\",index_col=0)\n",
    "all_sample['ans'] = all_sample['ans'].str.replace(\"wrong\",\"not_fit\")\n",
    "all_sample"
   ]
  },
  {
   "cell_type": "code",
   "execution_count": 15,
   "metadata": {},
   "outputs": [],
   "source": [
    "#fit 7015,no_fit 2181, wrong 804\n",
    "#all_sample=pd.read_csv(\"all_sample.csv\")\n",
    "\n",
    "negative_data=all_sample[all_sample[\"ans\"]==\"not_fit\"]\n",
    "postive_data=all_sample[all_sample[\"ans\"]==\"fit\"]\n",
    "\n",
    "\n",
    "#訓練2500 測試500\n",
    "train_P=postive_data.sample(3000,random_state=178)\n",
    "train_N=negative_data.sample(2985,random_state=198)\n",
    "test_P=train_P.sample(500,random_state=73)\n",
    "test_N=train_N.sample(485,random_state=65)\n",
    "\n",
    "train_P=train_P.drop(test_P.index)\n",
    "train_N=train_N.drop(test_N.index)\n",
    "#source上身代碼#下身代碼\n",
    "train_P=train_P.sort_values(by=[\"head_label\",\"tail_label\"]).reset_index(drop=True)\n",
    "train_N=train_N.sort_values(by=[\"head_label\",\"tail_label\"]).reset_index(drop=True)\n",
    "test_P=test_P.sort_values(by=[\"head_label\",\"tail_label\"]).reset_index(drop=True)\n",
    "test_N=test_N.sort_values(by=[\"head_label\",\"tail_label\"]).reset_index(drop=True)"
   ]
  },
  {
   "cell_type": "code",
   "execution_count": 3,
   "metadata": {},
   "outputs": [],
   "source": [
    "#transform可以旋轉 縮放\n",
    "transform=transforms.Compose([\n",
    "    transforms.Resize(224), #缩放图片，保持长宽比不变，最短边的长为224像素,\n",
    "    transforms.CenterCrop([150,224]), #中心裁剪，从中间切出 150*224的图片\n",
    "])\n"
   ]
  },
  {
   "cell_type": "code",
   "execution_count": 4,
   "metadata": {},
   "outputs": [
    {
     "name": "stderr",
     "output_type": "stream",
     "text": [
      "100%|██████████| 17000/17000 [07:10<00:00, 39.50it/s]\n"
     ]
    }
   ],
   "source": [
    "imgs=os.listdir(\"OB_imgs\")#回傳該路徑下有哪些檔案\n",
    "pbar=tqdm(total=len(imgs))\n",
    "for img in imgs:\n",
    "    path=\"OB_imgs/\"+img\n",
    "    pil_img=Image.open(path)\n",
    "    ttt=transform(pil_img)\n",
    "    save_dir=\"crop_img_test/\"+img\n",
    "    ttt.save(save_dir)\n",
    "    pbar.update(1)\n",
    "\n",
    "pbar.close()\n",
    "    "
   ]
  },
  {
   "cell_type": "code",
   "execution_count": 5,
   "metadata": {},
   "outputs": [],
   "source": [
    "def v_merge_img(data_df):\n",
    "    source=list(data_df[\"source\"])\n",
    "    target=list(data_df[\"target\"])\n",
    "    type=list(data_df[\"type\"])[0]\n",
    "    if(len(data_df)==2500 and type==\"fit\"):\n",
    "        folder_name=\"train/fit\"\n",
    "    elif(len(data_df)==2500 and type==\"not_fit\"):\n",
    "        folder_name=\"train/not_fit\"\n",
    "    elif(len(data_df)==500 and type==\"fit\"):\n",
    "        folder_name=\"test/fit\"\n",
    "    elif(len(data_df)==500 and type==\"not_fit\"):\n",
    "        folder_name=\"test/not_fit\"\n",
    "\n",
    "    if (os.path.exists(folder_name)==False):\n",
    "        os.mkdir(folder_name)\n",
    "\n",
    "    for i,top in enumerate(source):\n",
    "        top_dir=\"crop_img_test/\"+top+\".png\"\n",
    "        bottom_dir=\"crop_img_test/\"+target[i]+\".png\"\n",
    "        #用opencv讀取圖片\n",
    "        top_img = cv2.imread(top_dir)\n",
    "        bottom_img = cv2.imread(bottom_dir)\n",
    "        fit_img = np.vstack([top_img, bottom_img])  # 垂直拼接，變成上下兩個組圖\n",
    "\n",
    "        fit_img_dir=folder_name+\"/fit\"+str(i)+\".png\"\n",
    "        cv2.imwrite(fit_img_dir,fit_img)\n",
    "        \n",
    "   \n"
   ]
  },
  {
   "cell_type": "code",
   "execution_count": 6,
   "metadata": {},
   "outputs": [],
   "source": [
    "v_merge_img(test_P)\n",
    "v_merge_img(test_N)\n",
    "\n",
    "v_merge_img(train_P)\n",
    "v_merge_img(train_N)\n"
   ]
  },
  {
   "cell_type": "code",
   "execution_count": 7,
   "metadata": {},
   "outputs": [],
   "source": [
    "transform2=transforms.Compose([#compose可以把調整方法串接起來\n",
    "    transforms.Resize([224,224]), #缩放图片，保持长宽比不变，最短边的长为224像素,\n",
    "    transforms.ToTensor(), #將圖片或是ndarray轉換成Tensor,除255歸一化至[0,1]\n",
    "    transforms.Normalize(mean=[.5,.5,.5],std=[.5,.5,.5]) #標準化至[-1,1]其實並非到0~1之間，模型才容易收斂 mean變成0 std變成1\n",
    "])\n",
    "\n",
    "batch_size=16\n",
    "\n",
    "train_dir = \"train\"           \n",
    "#定義數據集\n",
    "train_datasets = datasets.ImageFolder(train_dir, transform=transform2)\n",
    "#加載數據集\n",
    "train_dataloader = torch.utils.data.DataLoader(train_datasets, batch_size=batch_size, shuffle=True)\n",
    "\n",
    "val_dir = \"test\"\t\t\n",
    "val_datasets = datasets.ImageFolder(val_dir, transform=transform2)\n",
    "val_dataloader = torch.utils.data.DataLoader(val_datasets, batch_size=batch_size, shuffle=False)"
   ]
  },
  {
   "cell_type": "code",
   "execution_count": 13,
   "metadata": {},
   "outputs": [],
   "source": [
    "class VGGNet(nn.Module):\n",
    "    def __init__(self, num_classes=2):\n",
    "        super(VGGNet, self).__init__()\n",
    "        net = models.vgg16(pretrained=False)\n",
    "        net.classifier = nn.Sequential()\n",
    "        self.features = net\n",
    "        self.classifier = nn.Sequential(\n",
    "                nn.Linear(512 * 7 * 7, 512),\n",
    "                nn.ReLU(True),\n",
    "                nn.Dropout(),\n",
    "                nn.Linear(512, 128),\n",
    "                nn.ReLU(True),\n",
    "                nn.Dropout(),\n",
    "                nn.Linear(128, num_classes),\n",
    "        )\n",
    "\n",
    "    def forward(self, x):\n",
    "        x = self.features(x)\n",
    "        x = x.view(x.size(0), -1)\n",
    "        x = self.classifier(x)\n",
    "        return x"
   ]
  },
  {
   "cell_type": "code",
   "execution_count": 14,
   "metadata": {},
   "outputs": [
    {
     "name": "stderr",
     "output_type": "stream",
     "text": [
      "c:\\Users\\HZT\\miniconda3\\envs\\pytorch\\lib\\site-packages\\torchvision\\models\\_utils.py:208: UserWarning: The parameter 'pretrained' is deprecated since 0.13 and will be removed in 0.15, please use 'weights' instead.\n",
      "  warnings.warn(\n",
      "c:\\Users\\HZT\\miniconda3\\envs\\pytorch\\lib\\site-packages\\torchvision\\models\\_utils.py:223: UserWarning: Arguments other than a weight enum or `None` for 'weights' are deprecated since 0.13 and will be removed in 0.15. The current behavior is equivalent to passing `weights=None`.\n",
      "  warnings.warn(msg)\n"
     ]
    },
    {
     "name": "stdout",
     "output_type": "stream",
     "text": [
      "epoch 1\n"
     ]
    },
    {
     "name": "stderr",
     "output_type": "stream",
     "text": [
      "100%|██████████| 313/313 [00:26<00:00, 11.74it/s]\n"
     ]
    },
    {
     "name": "stdout",
     "output_type": "stream",
     "text": [
      "Train Loss: 0.043431, Acc: 0.501400\n",
      "Test Loss: 0.043663, Acc: 0.500000\n",
      "epoch 2\n"
     ]
    },
    {
     "name": "stderr",
     "output_type": "stream",
     "text": [
      "100%|██████████| 313/313 [00:26<00:00, 11.72it/s]\n"
     ]
    },
    {
     "name": "stdout",
     "output_type": "stream",
     "text": [
      "Train Loss: 0.042762, Acc: 0.555200\n",
      "Test Loss: 0.041044, Acc: 0.638000\n",
      "epoch 3\n"
     ]
    },
    {
     "name": "stderr",
     "output_type": "stream",
     "text": [
      "100%|██████████| 313/313 [00:26<00:00, 11.70it/s]\n"
     ]
    },
    {
     "name": "stdout",
     "output_type": "stream",
     "text": [
      "Train Loss: 0.034240, Acc: 0.718600\n",
      "Test Loss: 0.029646, Acc: 0.780000\n",
      "epoch 4\n"
     ]
    },
    {
     "name": "stderr",
     "output_type": "stream",
     "text": [
      "100%|██████████| 313/313 [00:26<00:00, 11.69it/s]\n"
     ]
    },
    {
     "name": "stdout",
     "output_type": "stream",
     "text": [
      "Train Loss: 0.024366, Acc: 0.821800\n",
      "Test Loss: 0.024469, Acc: 0.831000\n",
      "epoch 5\n"
     ]
    },
    {
     "name": "stderr",
     "output_type": "stream",
     "text": [
      "100%|██████████| 313/313 [00:26<00:00, 11.69it/s]\n"
     ]
    },
    {
     "name": "stdout",
     "output_type": "stream",
     "text": [
      "Train Loss: 0.020202, Acc: 0.854200\n",
      "Test Loss: 0.022235, Acc: 0.829000\n",
      "epoch 6\n"
     ]
    },
    {
     "name": "stderr",
     "output_type": "stream",
     "text": [
      "100%|██████████| 313/313 [00:26<00:00, 11.69it/s]\n"
     ]
    },
    {
     "name": "stdout",
     "output_type": "stream",
     "text": [
      "Train Loss: 0.017708, Acc: 0.880800\n",
      "Test Loss: 0.019256, Acc: 0.862000\n",
      "epoch 7\n"
     ]
    },
    {
     "name": "stderr",
     "output_type": "stream",
     "text": [
      "100%|██████████| 313/313 [00:26<00:00, 11.68it/s]\n"
     ]
    },
    {
     "name": "stdout",
     "output_type": "stream",
     "text": [
      "Train Loss: 0.014784, Acc: 0.896200\n",
      "Test Loss: 0.018897, Acc: 0.869000\n",
      "epoch 8\n"
     ]
    },
    {
     "name": "stderr",
     "output_type": "stream",
     "text": [
      "100%|██████████| 313/313 [00:26<00:00, 11.65it/s]\n"
     ]
    },
    {
     "name": "stdout",
     "output_type": "stream",
     "text": [
      "Train Loss: 0.011788, Acc: 0.918400\n",
      "Test Loss: 0.019093, Acc: 0.883000\n",
      "epoch 9\n"
     ]
    },
    {
     "name": "stderr",
     "output_type": "stream",
     "text": [
      "100%|██████████| 313/313 [00:26<00:00, 11.65it/s]\n"
     ]
    },
    {
     "name": "stdout",
     "output_type": "stream",
     "text": [
      "Train Loss: 0.009172, Acc: 0.941800\n",
      "Test Loss: 0.016565, Acc: 0.895000\n",
      "epoch 10\n"
     ]
    },
    {
     "name": "stderr",
     "output_type": "stream",
     "text": [
      "100%|██████████| 313/313 [00:26<00:00, 11.65it/s]\n"
     ]
    },
    {
     "name": "stdout",
     "output_type": "stream",
     "text": [
      "Train Loss: 0.006616, Acc: 0.959200\n",
      "Test Loss: 0.016939, Acc: 0.905000\n",
      "epoch 11\n"
     ]
    },
    {
     "name": "stderr",
     "output_type": "stream",
     "text": [
      "100%|██████████| 313/313 [00:26<00:00, 11.65it/s]\n"
     ]
    },
    {
     "name": "stdout",
     "output_type": "stream",
     "text": [
      "Train Loss: 0.005378, Acc: 0.967800\n",
      "Test Loss: 0.017239, Acc: 0.901000\n",
      "epoch 12\n"
     ]
    },
    {
     "name": "stderr",
     "output_type": "stream",
     "text": [
      "100%|██████████| 313/313 [00:26<00:00, 11.65it/s]\n"
     ]
    },
    {
     "name": "stdout",
     "output_type": "stream",
     "text": [
      "Train Loss: 0.003815, Acc: 0.977000\n",
      "Test Loss: 0.019775, Acc: 0.904000\n",
      "epoch 13\n"
     ]
    },
    {
     "name": "stderr",
     "output_type": "stream",
     "text": [
      "100%|██████████| 313/313 [00:26<00:00, 11.65it/s]\n"
     ]
    },
    {
     "name": "stdout",
     "output_type": "stream",
     "text": [
      "Train Loss: 0.003330, Acc: 0.979800\n",
      "Test Loss: 0.025471, Acc: 0.883000\n",
      "epoch 14\n"
     ]
    },
    {
     "name": "stderr",
     "output_type": "stream",
     "text": [
      "100%|██████████| 313/313 [00:26<00:00, 11.66it/s]\n"
     ]
    },
    {
     "name": "stdout",
     "output_type": "stream",
     "text": [
      "Train Loss: 0.002584, Acc: 0.986200\n",
      "Test Loss: 0.028147, Acc: 0.914000\n",
      "epoch 15\n"
     ]
    },
    {
     "name": "stderr",
     "output_type": "stream",
     "text": [
      "100%|██████████| 313/313 [00:26<00:00, 11.65it/s]\n"
     ]
    },
    {
     "name": "stdout",
     "output_type": "stream",
     "text": [
      "Train Loss: 0.002111, Acc: 0.987600\n",
      "Test Loss: 0.025024, Acc: 0.906000\n",
      "epoch 16\n"
     ]
    },
    {
     "name": "stderr",
     "output_type": "stream",
     "text": [
      "100%|██████████| 313/313 [00:26<00:00, 11.66it/s]\n"
     ]
    },
    {
     "name": "stdout",
     "output_type": "stream",
     "text": [
      "Train Loss: 0.000946, Acc: 0.996400\n",
      "Test Loss: 0.029868, Acc: 0.918000\n",
      "epoch 17\n"
     ]
    },
    {
     "name": "stderr",
     "output_type": "stream",
     "text": [
      "100%|██████████| 313/313 [00:26<00:00, 11.65it/s]\n"
     ]
    },
    {
     "name": "stdout",
     "output_type": "stream",
     "text": [
      "Train Loss: 0.001909, Acc: 0.991000\n",
      "Test Loss: 0.023016, Acc: 0.915000\n",
      "epoch 18\n"
     ]
    },
    {
     "name": "stderr",
     "output_type": "stream",
     "text": [
      "100%|██████████| 313/313 [00:26<00:00, 11.67it/s]\n"
     ]
    },
    {
     "name": "stdout",
     "output_type": "stream",
     "text": [
      "Train Loss: 0.001432, Acc: 0.993600\n",
      "Test Loss: 0.032528, Acc: 0.915000\n",
      "epoch 19\n"
     ]
    },
    {
     "name": "stderr",
     "output_type": "stream",
     "text": [
      "100%|██████████| 313/313 [00:26<00:00, 11.67it/s]\n"
     ]
    },
    {
     "name": "stdout",
     "output_type": "stream",
     "text": [
      "Train Loss: 0.001031, Acc: 0.994800\n",
      "Test Loss: 0.029290, Acc: 0.901000\n",
      "epoch 20\n"
     ]
    },
    {
     "name": "stderr",
     "output_type": "stream",
     "text": [
      "100%|██████████| 313/313 [00:26<00:00, 11.68it/s]\n"
     ]
    },
    {
     "name": "stdout",
     "output_type": "stream",
     "text": [
      "Train Loss: 0.001446, Acc: 0.993000\n",
      "Test Loss: 0.033392, Acc: 0.910000\n"
     ]
    }
   ],
   "source": [
    "learning_rate = 5e-5\n",
    "epoch = 20\n",
    "\n",
    "model = VGGNet()\n",
    "if torch.cuda.is_available():\n",
    "    model.cuda()\n",
    "params = [{'params': md.parameters()} for md in model.children()\n",
    "          if md in [model.classifier]]\n",
    "optimizer = optim.Adam(model.parameters(), lr=learning_rate)\n",
    "loss_func = nn.CrossEntropyLoss()\n",
    "\n",
    "model.train()\n",
    "\n",
    "loss_list = []\n",
    "accuracy_list = []\n",
    "tr_loss_list = []\n",
    "tr_accuracy_list = []\n",
    "\n",
    "for i in range(epoch):\n",
    "    print('epoch {}'.format(i + 1))\n",
    "    train_loss = 0.\n",
    "    train_acc = 0.\n",
    "    pbar=tqdm(total=len(train_dataloader))\n",
    "    for img, label in train_dataloader:\n",
    "        img = Variable(img).cuda()\n",
    "        label = Variable(label).cuda()\n",
    "        optimizer.zero_grad()\n",
    "        output = model(img)\n",
    "        loss = loss_func(output, label)\n",
    "        train_loss += loss.item()\n",
    "        pred = torch.max(output, 1)[1]\n",
    "        train_correct = (pred == label).sum()\n",
    "        train_acc += train_correct.item()\n",
    "        loss.backward()\n",
    "        optimizer.step()\n",
    "        pbar.update(1)\n",
    "    pbar.close()\n",
    "\n",
    "    print('Train Loss: {:.6f}, Acc: {:.6f}'.format(train_loss / (len(train_datasets)), train_acc / (len(train_datasets))))\n",
    "    tr_loss_list.append(train_loss / (len(train_datasets)))\n",
    "    tr_accuracy_list.append(100 * train_acc / (len(train_datasets)))\n",
    "\n",
    "    # evaluation--------------------------------\n",
    "    model.eval()\n",
    "    eval_loss = 0.\n",
    "    eval_acc = 0.\n",
    "    for img, label in val_dataloader:\n",
    "        img = Variable(img).cuda()\n",
    "        label = Variable(label).cuda()\n",
    "        out = model(img)\n",
    "        loss = loss_func(out, label)\n",
    "        eval_loss += loss.item()\n",
    "        pred = torch.max(out, 1)[1]\n",
    "        num_correct = (pred == label).sum()\n",
    "        eval_acc += num_correct.item()\n",
    "    print('Test Loss: {:.6f}, Acc: {:.6f}'.format(eval_loss / (len(val_datasets)), eval_acc / (len(val_datasets))))\n",
    "    loss_list.append(eval_loss / (len(val_datasets)))\n",
    "    accuracy_list.append(100 * eval_acc / (len(val_datasets)))"
   ]
  },
  {
   "cell_type": "code",
   "execution_count": 15,
   "metadata": {},
   "outputs": [
    {
     "data": {
      "image/png": "[encoded data removed]",
      "text/plain": [
       "<Figure size 432x288 with 2 Axes>"
      ]
     },
     "metadata": {
      "needs_background": "light"
     },
     "output_type": "display_data"
    }
   ],
   "source": [
    "import matplotlib.pyplot as plt\n",
    "\n",
    "x1 = range(0, 20)\n",
    "x2 = range(0, 20)\n",
    "y1 = accuracy_list\n",
    "y2 = loss_list\n",
    "plt.subplot(2, 1, 1)\n",
    "plt.plot(x1, y1, 'o-')\n",
    "plt.title('Test accuracy vs. epoches')\n",
    "plt.ylabel('Test accuracy')\n",
    "plt.subplot(2, 1, 2)\n",
    "plt.plot(x2, y2, '.-')\n",
    "plt.xlabel('Test loss vs. epoches')\n",
    "plt.ylabel('Test loss')\n",
    "plt.show()\n",
    "# plt.savefig(\"accuracy_loss.jpg\")\n"
   ]
  },
  {
   "cell_type": "code",
   "execution_count": 16,
   "metadata": {},
   "outputs": [
    {
     "data": {
      "image/png": "[encoded data removed]",
      "text/plain": [
       "<Figure size 432x288 with 1 Axes>"
      ]
     },
     "metadata": {
      "needs_background": "light"
     },
     "output_type": "display_data"
    }
   ],
   "source": [
    "#distplot\n",
    "import matplotlib.pyplot as plt\n",
    "epochs =[i+1 for i in range(20)]\n",
    "plt.plot(epochs,tr_loss_list, color='red', label='Train')\n",
    "plt.plot(epochs,loss_list, '--', color='blue', label='Valid')\n",
    "#plt.title('CrossEntropy') # title\n",
    "plt.ylabel(\"Loss\") # y label\n",
    "plt.xlabel(\"Epochs\") # x label\n",
    "plt.legend() #圖例\n",
    "#plt.savefig('.\\\\Model\\\\0618\\\\t_model_' + str(isbalence) + 'bz' + str(batch_sizes) + '_' + str(num_epochs) + '.png') #儲存圖檔\n",
    "#plt.savefig('.\\\\Model\\\\0618\\\\實驗' + str(testnum) + '.png') #儲存圖檔\n",
    "plt.show()"
   ]
  },
  {
   "cell_type": "code",
   "execution_count": 19,
   "metadata": {},
   "outputs": [
    {
     "data": {
      "image/png": "[encoded data removed]",
      "text/plain": [
       "<Figure size 432x288 with 1 Axes>"
      ]
     },
     "metadata": {
      "needs_background": "light"
     },
     "output_type": "display_data"
    }
   ],
   "source": [
    "#distplot\n",
    "import matplotlib.pyplot as plt\n",
    "epochs =[i+1 for i in range(20)]\n",
    "plt.plot(epochs,tr_accuracy_list, color='red', label='Train')\n",
    "plt.plot(epochs,accuracy_list, '--', color='blue', label='Valid')\n",
    "#plt.title('CrossEntropy') # title\n",
    "plt.ylabel(\"accuracy\") # y label\n",
    "plt.xlabel(\"Epochs\") # x label\n",
    "plt.legend() #圖例\n",
    "#plt.savefig('.\\\\Model\\\\0618\\\\t_model_' + str(isbalence) + 'bz' + str(batch_sizes) + '_' + str(num_epochs) + '.png') #儲存圖檔\n",
    "#plt.savefig('.\\\\Model\\\\0618\\\\實驗' + str(testnum) + '.png') #儲存圖檔\n",
    "plt.show()"
   ]
  },
  {
   "cell_type": "code",
   "execution_count": 18,
   "metadata": {},
   "outputs": [],
   "source": [
    "torch.save(model.state_dict(), \"VGG16_0809_91.pt\")\n"
   ]
  }
 ],
 "metadata": {
  "kernelspec": {
   "display_name": "torch8019",
   "language": "python",
   "name": "python3"
  },
  "language_info": {
   "codemirror_mode": {
    "name": "ipython",
    "version": 3
   },
   "file_extension": ".py",
   "mimetype": "text/x-python",
   "name": "python",
   "nbconvert_exporter": "python",
   "pygments_lexer": "ipython3",
   "version": "3.7.16"
  },
  "orig_nbformat": 4,
  "vscode": {
   "interpreter": {
    "hash": "da40cf61c3822ad3e28034b609df22c9dda4ec009c9f3fb26b35a42899276fb0"
   }
  }
 },
 "nbformat": 4,
 "nbformat_minor": 2
}
