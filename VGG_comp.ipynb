{
 "cells": [
  {
   "cell_type": "code",
   "execution_count": 1,
   "metadata": {},
   "outputs": [
    {
     "name": "stderr",
     "output_type": "stream",
     "text": [
      "c:\\Users\\chou0\\miniconda3\\envs\\pytorch8019\\lib\\site-packages\\tqdm\\auto.py:22: TqdmWarning: IProgress not found. Please update jupyter and ipywidgets. See https://ipywidgets.readthedocs.io/en/stable/user_install.html\n",
      "  from .autonotebook import tqdm as notebook_tqdm\n"
     ]
    }
   ],
   "source": [
    "import torch"
   ]
  },
  {
   "cell_type": "code",
   "execution_count": 3,
   "metadata": {},
   "outputs": [],
   "source": [
    "import pandas as pd\n",
    "import torch\n",
    "from torchvision import transforms\n",
    "from PIL import Image\n",
    "import os\n",
    "from tqdm import tqdm\n",
    "import cv2\n",
    "import numpy as np\n",
    "from torchvision import datasets, transforms\n",
    "\n",
    "import torch.nn as nn\n",
    "from torchvision import models\n",
    "import torch.optim as optim\n",
    "from torch.autograd import Variable\n"
   ]
  },
  {
   "cell_type": "code",
   "execution_count": null,
   "metadata": {},
   "outputs": [],
   "source": [
    "ss = pd.read_csv(\"21ss.csv\",encoding='utf-8')\n",
    "print(ss.head())\n",
    "print(ss.describe())"
   ]
  },
  {
   "cell_type": "code",
   "execution_count": null,
   "metadata": {},
   "outputs": [],
   "source": [
    "aw = pd.read_csv(\"20aw.csv\",encoding='utf-8')\n",
    "print(aw.head())\n",
    "print(aw.describe())"
   ]
  },
  {
   "cell_type": "code",
   "execution_count": null,
   "metadata": {},
   "outputs": [],
   "source": [
    "aw = pd.read_table(\"20aw.csv\",sep=',')\n",
    "print(aw.head())\n",
    "print(aw.describe())\n",
    "print(aw.info())"
   ]
  },
  {
   "cell_type": "code",
   "execution_count": null,
   "metadata": {},
   "outputs": [],
   "source": [
    "aw_ss = pd.concat([aw,ss],axis=0)\n",
    "aw_ss = aw_ss.reset_index(drop=True)\n",
    "aw_ss"
   ]
  },
  {
   "cell_type": "code",
   "execution_count": null,
   "metadata": {},
   "outputs": [],
   "source": [
    "aw_ss.to_csv(\"all_sample.csv\",encoding='utf-8')"
   ]
  },
  {
   "cell_type": "code",
   "execution_count": null,
   "metadata": {},
   "outputs": [],
   "source": [
    "#把wrong變成no_fit 因為wrong也算是no_fit\n",
    "all_sample=pd.read_csv(\"all_sample.csv\",index_col=0)\n",
    "all_sample['ans'] = all_sample['ans'].str.replace(\"wrong\",\"not_fit\")\n",
    "all_sample"
   ]
  },
  {
   "cell_type": "code",
   "execution_count": null,
   "metadata": {},
   "outputs": [],
   "source": [
    "#fit 7015,no_fit 2181, wrong 804\n",
    "#all_sample=pd.read_csv(\"all_sample.csv\")\n",
    "\n",
    "negative_data=all_sample[all_sample[\"ans\"]==\"not_fit\"]\n",
    "postive_data=all_sample[all_sample[\"ans\"]==\"fit\"]\n",
    "\n",
    "\n",
    "#訓練2500 測試500\n",
    "train_P=postive_data.sample(3000,random_state=178)\n",
    "train_N=negative_data.sample(2985,random_state=198)\n",
    "test_P=train_P.sample(500,random_state=73)\n",
    "test_N=train_N.sample(485,random_state=65)\n",
    "\n",
    "train_P=train_P.drop(test_P.index)\n",
    "train_N=train_N.drop(test_N.index)\n",
    "#source上身代碼#下身代碼\n",
    "train_P=train_P.sort_values(by=[\"head_label\",\"tail_label\"]).reset_index(drop=True)\n",
    "train_N=train_N.sort_values(by=[\"head_label\",\"tail_label\"]).reset_index(drop=True)\n",
    "test_P=test_P.sort_values(by=[\"head_label\",\"tail_label\"]).reset_index(drop=True)\n",
    "test_N=test_N.sort_values(by=[\"head_label\",\"tail_label\"]).reset_index(drop=True)"
   ]
  },
  {
   "cell_type": "code",
   "execution_count": null,
   "metadata": {},
   "outputs": [],
   "source": [
    "#transform可以旋轉 縮放\n",
    "transform=transforms.Compose([\n",
    "    transforms.Resize(224), #缩放图片，保持长宽比不变，最短边的长为224像素,\n",
    "    transforms.CenterCrop([150,224]), #中心裁剪，从中间切出 150*224的图片\n",
    "])\n"
   ]
  },
  {
   "cell_type": "code",
   "execution_count": null,
   "metadata": {},
   "outputs": [],
   "source": [
    "#把秋冬跟春夏資料及底下的子資料夾所有圖片都放在一起(會有重複的圖片)\n",
    "#順便把圖片名稱改成單純編號\n",
    "os.mkdir(\"OB_imgs\")\n",
    "save_dir = \"OB_imgs/\"\n",
    "aw_dir = os.listdir(\"20aw/fit\")\n",
    "ss_dir = os.listdir(\"21ss/fit\")\n",
    "aw_label = aw[['head_label','tail_label']]\n",
    "ss_label = ss[['head_label','tail_label']]\n",
    "t_rec = []\n",
    "b_rec = []\n",
    "\n",
    "for i,fit in enumerate(tqdm(aw_dir)):\n",
    "    path = \"20aw/fit/\" + fit\n",
    "    fit_list = os.listdir(path)\n",
    "    t = aw_label.iloc[i][0]\n",
    "    b = aw_label.iloc[i][1]\n",
    "    if fit_list[0].startswith(t):\n",
    "        if t not in t_rec:\n",
    "            os.rename(f'{path}/{fit_list[0]}',f'{save_dir}/{t}.png')\n",
    "            t_rec.append(t)\n",
    "        if b not in b_rec:\n",
    "            os.rename(f'{path}/{fit_list[1]}',f'{save_dir}/{b}.png')\n",
    "            b_rec.append(b)\n",
    "    elif fit_list[0].startswith(b):\n",
    "        if b not in b_rec:\n",
    "            os.rename(f'{path}/{fit_list[0]}',f'{save_dir}/{b}.png')\n",
    "            b_rec.append(b)\n",
    "        if t not in t_rec:\n",
    "            os.rename(f'{path}/{fit_list[1]}',f'{save_dir}/{t}.png')\n",
    "            t_rec.append(t)\n",
    "    \n",
    "for j,fit in enumerate(tqdm(ss_dir)):\n",
    "    path = \"21ss/fit/\" + fit\n",
    "    fit_list = os.listdir(path)\n",
    "    t = ss_label.iloc[j][0]\n",
    "    b = ss_label.iloc[j][1]\n",
    "    if fit_list[0].startswith(t):\n",
    "        if t not in t_rec:\n",
    "            os.rename(f'{path}/{fit_list[0]}',f'{save_dir}/{t}.png')\n",
    "            t_rec.append(t)\n",
    "        if b not in b_rec:\n",
    "            os.rename(f'{path}/{fit_list[1]}',f'{save_dir}/{b}.png')\n",
    "            b_rec.append(b)\n",
    "    elif fit_list[0].startswith(b):\n",
    "        if b not in b_rec:\n",
    "            os.rename(f'{path}/{fit_list[0]}',f'{save_dir}/{b}.png')\n",
    "            b_rec.append(b)\n",
    "        if t not in t_rec:\n",
    "            os.rename(f'{path}/{fit_list[1]}',f'{save_dir}/{t}.png')\n",
    "            t_rec.append(t)\n",
    "    \n",
    "    \n",
    "    "
   ]
  },
  {
   "cell_type": "code",
   "execution_count": null,
   "metadata": {},
   "outputs": [],
   "source": [
    "imgs=os.listdir(\"OB_imgs\")#回傳該路徑下有哪些檔案\n",
    "pbar=tqdm(total=len(imgs))\n",
    "for img in imgs:\n",
    "    path=\"OB_imgs/\"+img\n",
    "    pil_img=Image.open(path)\n",
    "    ttt=transform(pil_img)\n",
    "    save_dir=\"crop_img_test/\"+img\n",
    "    ttt.save(save_dir)\n",
    "    pbar.update(1)\n",
    "\n",
    "pbar.close()\n",
    "    "
   ]
  },
  {
   "cell_type": "code",
   "execution_count": null,
   "metadata": {},
   "outputs": [],
   "source": [
    "def v_merge_img(data_df):\n",
    "    source=list(data_df[\"head_label\"])\n",
    "    target=list(data_df[\"tail_label\"])\n",
    "    type=list(data_df[\"ans\"])[0]\n",
    "    if(len(data_df)==2500 and type==\"fit\"):\n",
    "        folder_name=\"train/fit\"\n",
    "    elif(len(data_df)==2500 and type==\"not_fit\"):\n",
    "        folder_name=\"train/not_fit\"\n",
    "    elif(len(data_df)==500 and type==\"fit\"):\n",
    "        folder_name=\"test/fit\"\n",
    "    elif(len(data_df)==485 and type==\"not_fit\"):\n",
    "        folder_name=\"test/not_fit\"\n",
    "\n",
    "    if (os.path.exists(folder_name)==False):\n",
    "        os.mkdir(folder_name)\n",
    "\n",
    "    for i,top in enumerate(source):\n",
    "        top_dir=\"crop_img_test/\"+top+\".png\"\n",
    "        bottom_dir=\"crop_img_test/\"+target[i]+\".png\"\n",
    "        #用opencv讀取圖片\n",
    "        top_img = cv2.imread(top_dir)\n",
    "        bottom_img = cv2.imread(bottom_dir)\n",
    "        fit_img = np.vstack([top_img, bottom_img])  # 垂直拼接，變成上下兩個組圖\n",
    "\n",
    "        fit_img_dir=folder_name+\"/fit\"+str(i)+\".png\"\n",
    "        cv2.imwrite(fit_img_dir,fit_img)\n",
    "        \n",
    "   \n"
   ]
  },
  {
   "cell_type": "code",
   "execution_count": null,
   "metadata": {},
   "outputs": [],
   "source": [
    "v_merge_img(test_P)\n",
    "v_merge_img(test_N)\n",
    "\n",
    "v_merge_img(train_P)\n",
    "v_merge_img(train_N)\n"
   ]
  },
  {
   "cell_type": "code",
   "execution_count": 4,
   "metadata": {},
   "outputs": [],
   "source": [
    "transform2=transforms.Compose([#compose可以把調整方法串接起來\n",
    "    transforms.Resize([224,224]), #缩放图片，保持长宽比不变，最短边的长为224像素, VGG的輸入規定格式\n",
    "    transforms.ToTensor(), #將圖片或是ndarray轉換成Tensor,除255歸一化至[0,1]\n",
    "    transforms.Normalize(mean=[.5,.5,.5],std=[.5,.5,.5]) #標準化至[-1,1]其實並非到0~1之間，模型才容易收斂 mean變成0 std變成1\n",
    "])\n",
    "\n",
    "batch_size=16 #原本16，建議設2的n次方，較有效率\n",
    "\n",
    "train_dir = \"train\"           \n",
    "#定義數據集\n",
    "train_datasets = datasets.ImageFolder(train_dir, transform=transform2)\n",
    "#加載數據集\n",
    "train_dataloader = torch.utils.data.DataLoader(train_datasets, batch_size=batch_size, shuffle=True)\n",
    "\n",
    "val_dir = \"test\"\t\t\n",
    "val_datasets = datasets.ImageFolder(val_dir, transform=transform2)\n",
    "val_dataloader = torch.utils.data.DataLoader(val_datasets, batch_size=batch_size, shuffle=False)"
   ]
  },
  {
   "cell_type": "code",
   "execution_count": 5,
   "metadata": {},
   "outputs": [],
   "source": [
    "class VGGNet(nn.Module):\n",
    "    def __init__(self, num_classes=2):\n",
    "        super(VGGNet, self).__init__()\n",
    "        net = models.vgg16(pretrained=False)\n",
    "        net.classifier = nn.Sequential()\n",
    "        self.features = net\n",
    "        self.classifier = nn.Sequential(\n",
    "                nn.Linear(512 * 7 * 7, 512),\n",
    "                nn.ReLU(True),\n",
    "                nn.Dropout(),\n",
    "                nn.Linear(512, 128),\n",
    "                nn.ReLU(True),\n",
    "                nn.Dropout(),\n",
    "                nn.Linear(128, num_classes),\n",
    "        )\n",
    "\n",
    "    def forward(self, x):\n",
    "        x = self.features(x)\n",
    "        x = x.view(x.size(0), -1)\n",
    "        x = self.classifier(x)\n",
    "        return x"
   ]
  },
  {
   "cell_type": "code",
   "execution_count": null,
   "metadata": {},
   "outputs": [],
   "source": [
    "#釋放無用的內存\n",
    "#if hasattr(torch.cuda,'empty_cache'):\n",
    "#torch.cuda.empty_cache()"
   ]
  },
  {
   "cell_type": "code",
   "execution_count": 7,
   "metadata": {},
   "outputs": [
    {
     "name": "stdout",
     "output_type": "stream",
     "text": [
      "epoch 1\n"
     ]
    },
    {
     "name": "stderr",
     "output_type": "stream",
     "text": [
      "100%|██████████| 313/313 [01:00<00:00,  5.19it/s]\n"
     ]
    },
    {
     "name": "stdout",
     "output_type": "stream",
     "text": [
      "Train Loss: 0.043466, Acc: 0.502400\n",
      "Test Loss: 0.043670, Acc: 0.492386\n",
      "epoch 2\n"
     ]
    },
    {
     "name": "stderr",
     "output_type": "stream",
     "text": [
      "100%|██████████| 313/313 [01:00<00:00,  5.19it/s]\n"
     ]
    },
    {
     "name": "stdout",
     "output_type": "stream",
     "text": [
      "Train Loss: 0.043345, Acc: 0.514200\n",
      "Test Loss: 0.043457, Acc: 0.562437\n",
      "epoch 3\n"
     ]
    },
    {
     "name": "stderr",
     "output_type": "stream",
     "text": [
      "100%|██████████| 313/313 [01:00<00:00,  5.20it/s]\n"
     ]
    },
    {
     "name": "stdout",
     "output_type": "stream",
     "text": [
      "Train Loss: 0.042923, Acc: 0.553800\n",
      "Test Loss: 0.042589, Acc: 0.579695\n",
      "epoch 4\n"
     ]
    },
    {
     "name": "stderr",
     "output_type": "stream",
     "text": [
      "100%|██████████| 313/313 [00:59<00:00,  5.22it/s]\n"
     ]
    },
    {
     "name": "stdout",
     "output_type": "stream",
     "text": [
      "Train Loss: 0.042133, Acc: 0.585200\n",
      "Test Loss: 0.043129, Acc: 0.531980\n",
      "epoch 5\n"
     ]
    },
    {
     "name": "stderr",
     "output_type": "stream",
     "text": [
      "100%|██████████| 313/313 [00:59<00:00,  5.22it/s]\n"
     ]
    },
    {
     "name": "stdout",
     "output_type": "stream",
     "text": [
      "Train Loss: 0.040570, Acc: 0.620600\n",
      "Test Loss: 0.039972, Acc: 0.648731\n",
      "epoch 6\n"
     ]
    },
    {
     "name": "stderr",
     "output_type": "stream",
     "text": [
      "100%|██████████| 313/313 [01:00<00:00,  5.21it/s]\n"
     ]
    },
    {
     "name": "stdout",
     "output_type": "stream",
     "text": [
      "Train Loss: 0.038113, Acc: 0.664600\n",
      "Test Loss: 0.038763, Acc: 0.668020\n",
      "epoch 7\n"
     ]
    },
    {
     "name": "stderr",
     "output_type": "stream",
     "text": [
      "100%|██████████| 313/313 [01:00<00:00,  5.19it/s]\n"
     ]
    },
    {
     "name": "stdout",
     "output_type": "stream",
     "text": [
      "Train Loss: 0.034792, Acc: 0.716200\n",
      "Test Loss: 0.035888, Acc: 0.702538\n",
      "epoch 8\n"
     ]
    },
    {
     "name": "stderr",
     "output_type": "stream",
     "text": [
      "100%|██████████| 313/313 [01:00<00:00,  5.19it/s]\n"
     ]
    },
    {
     "name": "stdout",
     "output_type": "stream",
     "text": [
      "Train Loss: 0.030429, Acc: 0.770600\n",
      "Test Loss: 0.033480, Acc: 0.726904\n",
      "epoch 9\n"
     ]
    },
    {
     "name": "stderr",
     "output_type": "stream",
     "text": [
      "100%|██████████| 313/313 [01:00<00:00,  5.19it/s]\n"
     ]
    },
    {
     "name": "stdout",
     "output_type": "stream",
     "text": [
      "Train Loss: 0.026701, Acc: 0.803200\n",
      "Test Loss: 0.034162, Acc: 0.759391\n",
      "epoch 10\n"
     ]
    },
    {
     "name": "stderr",
     "output_type": "stream",
     "text": [
      "100%|██████████| 313/313 [01:00<00:00,  5.19it/s]\n"
     ]
    },
    {
     "name": "stdout",
     "output_type": "stream",
     "text": [
      "Train Loss: 0.022171, Acc: 0.844400\n",
      "Test Loss: 0.034115, Acc: 0.752284\n",
      "epoch 11\n"
     ]
    },
    {
     "name": "stderr",
     "output_type": "stream",
     "text": [
      "100%|██████████| 313/313 [01:00<00:00,  5.19it/s]\n"
     ]
    },
    {
     "name": "stdout",
     "output_type": "stream",
     "text": [
      "Train Loss: 0.018376, Acc: 0.874400\n",
      "Test Loss: 0.034484, Acc: 0.735025\n",
      "epoch 12\n"
     ]
    },
    {
     "name": "stderr",
     "output_type": "stream",
     "text": [
      "100%|██████████| 313/313 [01:00<00:00,  5.19it/s]\n"
     ]
    },
    {
     "name": "stdout",
     "output_type": "stream",
     "text": [
      "Train Loss: 0.014374, Acc: 0.904600\n",
      "Test Loss: 0.034903, Acc: 0.775635\n",
      "epoch 13\n"
     ]
    },
    {
     "name": "stderr",
     "output_type": "stream",
     "text": [
      "100%|██████████| 313/313 [01:00<00:00,  5.19it/s]\n"
     ]
    },
    {
     "name": "stdout",
     "output_type": "stream",
     "text": [
      "Train Loss: 0.010727, Acc: 0.930000\n",
      "Test Loss: 0.042477, Acc: 0.770558\n",
      "epoch 14\n"
     ]
    },
    {
     "name": "stderr",
     "output_type": "stream",
     "text": [
      "100%|██████████| 313/313 [01:00<00:00,  5.19it/s]\n"
     ]
    },
    {
     "name": "stdout",
     "output_type": "stream",
     "text": [
      "Train Loss: 0.007930, Acc: 0.952200\n",
      "Test Loss: 0.048243, Acc: 0.770558\n",
      "epoch 15\n"
     ]
    },
    {
     "name": "stderr",
     "output_type": "stream",
     "text": [
      "100%|██████████| 313/313 [01:00<00:00,  5.19it/s]\n"
     ]
    },
    {
     "name": "stdout",
     "output_type": "stream",
     "text": [
      "Train Loss: 0.006597, Acc: 0.962800\n",
      "Test Loss: 0.050028, Acc: 0.786802\n"
     ]
    }
   ],
   "source": [
    "learning_rate = 5e-5#5的負5次方\n",
    "epoch = 15#如果overfitting的話，可以找train跟test都在高峰的epoch，就不要那麼多次epoch\n",
    "\n",
    "model = VGGNet()\n",
    "if torch.cuda.is_available():\n",
    "    model.cuda()\n",
    "params = [{'params': md.parameters()} for md in model.children()\n",
    "          if md in [model.classifier]]\n",
    "optimizer = optim.Adam(model.parameters(), lr=learning_rate)\n",
    "loss_func = nn.CrossEntropyLoss()\n",
    "\n",
    "model.train()\n",
    "\n",
    "loss_list = []\n",
    "accuracy_list = []\n",
    "tr_loss_list = []\n",
    "tr_accuracy_list = []\n",
    "\n",
    "for i in range(epoch):\n",
    "    print('epoch {}'.format(i + 1))\n",
    "    train_loss = 0.\n",
    "    train_acc = 0.\n",
    "    pbar=tqdm(total=len(train_dataloader))\n",
    "    for img, label in train_dataloader:\n",
    "        img = Variable(img).cuda()\n",
    "        label = Variable(label).cuda()\n",
    "        optimizer.zero_grad()\n",
    "        output = model(img)\n",
    "        loss = loss_func(output, label)\n",
    "        train_loss += loss.item()\n",
    "        pred = torch.max(output, 1)[1]\n",
    "        train_correct = (pred == label).sum()\n",
    "        train_acc += train_correct.item()\n",
    "        loss.backward()\n",
    "        optimizer.step()\n",
    "        pbar.update(1)\n",
    "    pbar.close()\n",
    "\n",
    "    print('Train Loss: {:.6f}, Acc: {:.6f}'.format(train_loss / (len(train_datasets)), train_acc / (len(train_datasets))))\n",
    "    tr_loss_list.append(train_loss / (len(train_datasets)))\n",
    "    tr_accuracy_list.append(100 * train_acc / (len(train_datasets)))\n",
    "\n",
    "    # evaluation--------------------------------\n",
    "    model.eval()\n",
    "    eval_loss = 0.\n",
    "    eval_acc = 0.\n",
    "    for img, label in val_dataloader:\n",
    "        img = Variable(img).cuda()\n",
    "        label = Variable(label).cuda()\n",
    "        out = model(img)\n",
    "        loss = loss_func(out, label)\n",
    "        eval_loss += loss.item()\n",
    "        pred = torch.max(out, 1)[1]\n",
    "        num_correct = (pred == label).sum()\n",
    "        eval_acc += num_correct.item()\n",
    "    print('Test Loss: {:.6f}, Acc: {:.6f}'.format(eval_loss / (len(val_datasets)), eval_acc / (len(val_datasets))))\n",
    "    loss_list.append(eval_loss / (len(val_datasets)))\n",
    "    accuracy_list.append(100 * eval_acc / (len(val_datasets)))"
   ]
  },
  {
   "cell_type": "code",
   "execution_count": 11,
   "metadata": {},
   "outputs": [
    {
     "data": {
      "image/png": "[encoded data removed]",
      "text/plain": [
       "<Figure size 640x480 with 2 Axes>"
      ]
     },
     "metadata": {},
     "output_type": "display_data"
    }
   ],
   "source": [
    "import matplotlib.pyplot as plt\n",
    "\n",
    "x1 = range(0, 15)\n",
    "x2 = range(0, 15)\n",
    "y1 = accuracy_list\n",
    "y2 = loss_list\n",
    "plt.subplot(2, 1, 1)\n",
    "plt.plot(x1, y1, 'o-')\n",
    "plt.title('Test accuracy vs. epoches')\n",
    "plt.ylabel('Test accuracy')\n",
    "plt.subplot(2, 1, 2)\n",
    "plt.plot(x2, y2, '.-')\n",
    "plt.xlabel('Test loss vs. epoches')\n",
    "plt.ylabel('Test loss')\n",
    "plt.show()\n",
    "# plt.savefig(\"accuracy_loss.jpg\")\n"
   ]
  },
  {
   "cell_type": "code",
   "execution_count": 12,
   "metadata": {},
   "outputs": [
    {
     "data": {
      "image/png": "[encoded data removed]",
      "text/plain": [
       "<Figure size 640x480 with 1 Axes>"
      ]
     },
     "metadata": {},
     "output_type": "display_data"
    }
   ],
   "source": [
    "#distplot\n",
    "import matplotlib.pyplot as plt\n",
    "epochs =[i+1 for i in range(15)]\n",
    "plt.plot(epochs,tr_loss_list, color='red', label='Train')\n",
    "plt.plot(epochs,loss_list, '--', color='blue', label='Valid')\n",
    "#plt.title('CrossEntropy') # title\n",
    "plt.ylabel(\"Loss\") # y label\n",
    "plt.xlabel(\"Epochs\") # x label\n",
    "plt.legend() #圖例\n",
    "#plt.savefig('.\\\\Model\\\\0618\\\\t_model_' + str(isbalence) + 'bz' + str(batch_sizes) + '_' + str(num_epochs) + '.png') #儲存圖檔\n",
    "#plt.savefig('.\\\\Model\\\\0618\\\\實驗' + str(testnum) + '.png') #儲存圖檔\n",
    "plt.show()"
   ]
  },
  {
   "cell_type": "code",
   "execution_count": 13,
   "metadata": {},
   "outputs": [
    {
     "data": {
      "image/png": "[encoded data removed]",
      "text/plain": [
       "<Figure size 640x480 with 1 Axes>"
      ]
     },
     "metadata": {},
     "output_type": "display_data"
    }
   ],
   "source": [
    "#distplot\n",
    "import matplotlib.pyplot as plt\n",
    "epochs =[i+1 for i in range(15)]\n",
    "plt.plot(epochs,tr_accuracy_list, color='red', label='Train')\n",
    "plt.plot(epochs,accuracy_list, '--', color='blue', label='Valid')\n",
    "#plt.title('CrossEntropy') # title\n",
    "plt.ylabel(\"accuracy\") # y label\n",
    "plt.xlabel(\"Epochs\") # x label\n",
    "plt.legend() #圖例\n",
    "#plt.savefig('.\\\\Model\\\\0618\\\\t_model_' + str(isbalence) + 'bz' + str(batch_sizes) + '_' + str(num_epochs) + '.png') #儲存圖檔\n",
    "#plt.savefig('.\\\\Model\\\\0618\\\\實驗' + str(testnum) + '.png') #儲存圖檔\n",
    "plt.show()"
   ]
  },
  {
   "cell_type": "code",
   "execution_count": 14,
   "metadata": {},
   "outputs": [],
   "source": [
    "torch.save(model.state_dict(), \"VGG16_96_78.pt\")\n"
   ]
  },
  {
   "cell_type": "code",
   "execution_count": null,
   "metadata": {},
   "outputs": [],
   "source": [
    "from sklearn.metrics import confusion_matrix\n",
    "\n",
    "cm = confusion_matrix(y_true, y_pred)"
   ]
  }
 ],
 "metadata": {
  "kernelspec": {
   "display_name": "Python 3",
   "language": "python",
   "name": "python3"
  },
  "language_info": {
   "codemirror_mode": {
    "name": "ipython",
    "version": 3
   },
   "file_extension": ".py",
   "mimetype": "text/x-python",
   "name": "python",
   "nbconvert_exporter": "python",
   "pygments_lexer": "ipython3",
   "version": "3.8.16"
  },
  "orig_nbformat": 4,
  "vscode": {
   "interpreter": {
    "hash": "285e4d2c54d733dbcc3353af8f0e84aa12988b68f0a7a29dc07dbe7336d2825b"
   }
  }
 },
 "nbformat": 4,
 "nbformat_minor": 2
}
