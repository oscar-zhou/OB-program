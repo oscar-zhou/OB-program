{
 "cells": [
  {
   "cell_type": "code",
   "execution_count": 1,
   "metadata": {},
   "outputs": [
    {
     "name": "stderr",
     "output_type": "stream",
     "text": [
      "c:\\Users\\YUDE ZHOU\\miniconda3\\envs\\pytorch8019\\lib\\site-packages\\tqdm\\auto.py:22: TqdmWarning: IProgress not found. Please update jupyter and ipywidgets. See https://ipywidgets.readthedocs.io/en/stable/user_install.html\n",
      "  from .autonotebook import tqdm as notebook_tqdm\n",
      "c:\\Users\\YUDE ZHOU\\miniconda3\\envs\\pytorch8019\\lib\\site-packages\\torchvision\\io\\image.py:13: UserWarning: Failed to load image Python extension: \n",
      "  warn(f\"Failed to load image Python extension: {e}\")\n"
     ]
    }
   ],
   "source": [
    "import pandas as pd\n",
    "import torch\n",
    "from torchvision import transforms\n",
    "from PIL import Image\n",
    "import os\n",
    "from tqdm import tqdm\n",
    "import cv2\n",
    "import numpy as np\n",
    "from torchvision import datasets, transforms\n",
    "\n",
    "import torch.nn as nn\n",
    "from torchvision import models\n",
    "import torch.optim as optim\n",
    "from torch.autograd import Variable\n"
   ]
  },
  {
   "cell_type": "code",
   "execution_count": 7,
   "metadata": {},
   "outputs": [],
   "source": [
    "\n",
    "all_sample=pd.read_csv(\"all_sample.csv\",encoding='utf-8')\n",
    "all_sample['ans'] = all_sample['ans'].str.replace(\"wrong\",\"not_fit\")\n",
    "negative_data=all_sample[all_sample[\"ans\"]==\"not_fit\"]\n",
    "postive_data=all_sample[all_sample[\"ans\"]==\"fit\"]\n",
    "\n",
    "\n",
    "#訓練2500 測試500+500\n",
    "train_P=postive_data.sample(3000,random_state=178)\n",
    "train_N=negative_data.sample(2985,random_state=198)\n",
    "test_P=train_P.sample(500,random_state=73)\n",
    "test_N=train_N.sample(485,random_state=65)\n",
    "\n",
    "train_P=train_P.drop(test_P.index)\n",
    "train_N=train_N.drop(test_N.index)\n",
    "\n",
    "train_P=train_P.sort_values(by=[\"head_label\",\"tail_label\"]).reset_index(drop=True)\n",
    "train_N=train_N.sort_values(by=[\"head_label\",\"tail_label\"]).reset_index(drop=True)\n",
    "test_P=test_P.sort_values(by=[\"head_label\",\"tail_label\"]).reset_index(drop=True)\n",
    "test_N=test_N.sort_values(by=[\"head_label\",\"tail_label\"]).reset_index(drop=True)"
   ]
  },
  {
   "cell_type": "code",
   "execution_count": 8,
   "metadata": {},
   "outputs": [],
   "source": [
    "transform2=transforms.Compose([\n",
    "    transforms.Resize([224,224]), #缩放图片，保持长宽比不变，最短边的长为224像素,\n",
    "    transforms.ToTensor(), #将图片转换为Tensor,归一化至[0,1]\n",
    "    transforms.Normalize(mean=[.5,.5,.5],std=[.5,.5,.5]) #标准化至[-1,1]\n",
    "])\n",
    "\n",
    "batch_size=4\n",
    "\n",
    "train_dir = \"train\"           \n",
    "#定義數據集\n",
    "train_datasets = datasets.ImageFolder(train_dir, transform=transform2)\n",
    "#加載數據集\n",
    "train_dataloader = torch.utils.data.DataLoader(train_datasets, batch_size=batch_size, shuffle=True)\n",
    "\n",
    "val_dir = \"test\"\t\t\n",
    "val_datasets = datasets.ImageFolder(val_dir, transform=transform2)\n",
    "val_dataloader = torch.utils.data.DataLoader(val_datasets, batch_size=batch_size, shuffle=False)"
   ]
  },
  {
   "cell_type": "code",
   "execution_count": 9,
   "metadata": {},
   "outputs": [],
   "source": [
    "class ResNet(nn.Module):\n",
    "    def __init__(self, num_classes=2):\n",
    "        super(ResNet, self).__init__()\n",
    "        self.model = models.resnet18(pretrained=False)\n",
    "\n",
    "        # 鎖定 ResNet18 預訓練模型參數\n",
    "        #for param in self.model.parameters():\n",
    "        #    param.requires_grad = False\n",
    "\n",
    "        # 修改輸出層輸出數量\n",
    "        self.model.fc = nn.Linear(512, 2)\n",
    "    def forward(self, x):\n",
    "        logits = self.model(x)\n",
    "        return logits"
   ]
  },
  {
   "cell_type": "code",
   "execution_count": 10,
   "metadata": {},
   "outputs": [
    {
     "name": "stderr",
     "output_type": "stream",
     "text": [
      "c:\\Users\\YUDE ZHOU\\miniconda3\\envs\\pytorch8019\\lib\\site-packages\\torchvision\\models\\_utils.py:209: UserWarning: The parameter 'pretrained' is deprecated since 0.13 and will be removed in 0.15, please use 'weights' instead.\n",
      "  f\"The parameter '{pretrained_param}' is deprecated since 0.13 and will be removed in 0.15, \"\n",
      "c:\\Users\\YUDE ZHOU\\miniconda3\\envs\\pytorch8019\\lib\\site-packages\\torchvision\\models\\_utils.py:223: UserWarning: Arguments other than a weight enum or `None` for 'weights' are deprecated since 0.13 and will be removed in 0.15. The current behavior is equivalent to passing `weights=None`.\n",
      "  warnings.warn(msg)\n"
     ]
    }
   ],
   "source": [
    "model = ResNet().to(\"cuda\")"
   ]
  },
  {
   "cell_type": "code",
   "execution_count": 11,
   "metadata": {},
   "outputs": [],
   "source": [
    "# 損失函數\n",
    "loss_func = nn.CrossEntropyLoss()\n",
    "\n",
    "# 學習優化器\n",
    "optimizer = torch.optim.SGD(model.parameters(), lr=5e-2)#5的負2次方"
   ]
  },
  {
   "cell_type": "code",
   "execution_count": 12,
   "metadata": {},
   "outputs": [
    {
     "name": "stdout",
     "output_type": "stream",
     "text": [
      "epoch 1\n"
     ]
    },
    {
     "name": "stderr",
     "output_type": "stream",
     "text": [
      "100%|██████████| 1250/1250 [02:02<00:00, 10.24it/s]\n"
     ]
    },
    {
     "name": "stdout",
     "output_type": "stream",
     "text": [
      "Train Loss: 0.209720, Acc: 0.497800\n",
      "Test Loss: 0.175973, Acc: 0.507614\n",
      "epoch 2\n"
     ]
    },
    {
     "name": "stderr",
     "output_type": "stream",
     "text": [
      "100%|██████████| 1250/1250 [01:55<00:00, 10.86it/s]\n"
     ]
    },
    {
     "name": "stdout",
     "output_type": "stream",
     "text": [
      "Train Loss: 0.173230, Acc: 0.532000\n",
      "Test Loss: 0.173142, Acc: 0.527919\n",
      "epoch 3\n"
     ]
    },
    {
     "name": "stderr",
     "output_type": "stream",
     "text": [
      "100%|██████████| 1250/1250 [01:54<00:00, 10.92it/s]\n"
     ]
    },
    {
     "name": "stdout",
     "output_type": "stream",
     "text": [
      "Train Loss: 0.172666, Acc: 0.534200\n",
      "Test Loss: 0.172278, Acc: 0.548223\n",
      "epoch 4\n"
     ]
    },
    {
     "name": "stderr",
     "output_type": "stream",
     "text": [
      "100%|██████████| 1250/1250 [01:54<00:00, 10.87it/s]\n"
     ]
    },
    {
     "name": "stdout",
     "output_type": "stream",
     "text": [
      "Train Loss: 0.171908, Acc: 0.542600\n",
      "Test Loss: 0.183571, Acc: 0.516751\n",
      "epoch 5\n"
     ]
    },
    {
     "name": "stderr",
     "output_type": "stream",
     "text": [
      "100%|██████████| 1250/1250 [01:51<00:00, 11.18it/s]\n"
     ]
    },
    {
     "name": "stdout",
     "output_type": "stream",
     "text": [
      "Train Loss: 0.171488, Acc: 0.551000\n",
      "Test Loss: 0.177184, Acc: 0.516751\n",
      "epoch 6\n"
     ]
    },
    {
     "name": "stderr",
     "output_type": "stream",
     "text": [
      "100%|██████████| 1250/1250 [01:51<00:00, 11.17it/s]\n"
     ]
    },
    {
     "name": "stdout",
     "output_type": "stream",
     "text": [
      "Train Loss: 0.170857, Acc: 0.557800\n",
      "Test Loss: 0.174066, Acc: 0.530964\n",
      "epoch 7\n"
     ]
    },
    {
     "name": "stderr",
     "output_type": "stream",
     "text": [
      "100%|██████████| 1250/1250 [01:51<00:00, 11.25it/s]\n"
     ]
    },
    {
     "name": "stdout",
     "output_type": "stream",
     "text": [
      "Train Loss: 0.170424, Acc: 0.559000\n",
      "Test Loss: 0.170182, Acc: 0.577665\n",
      "epoch 8\n"
     ]
    },
    {
     "name": "stderr",
     "output_type": "stream",
     "text": [
      "100%|██████████| 1250/1250 [01:51<00:00, 11.19it/s]\n"
     ]
    },
    {
     "name": "stdout",
     "output_type": "stream",
     "text": [
      "Train Loss: 0.169482, Acc: 0.574600\n",
      "Test Loss: 0.168188, Acc: 0.581726\n",
      "epoch 9\n"
     ]
    },
    {
     "name": "stderr",
     "output_type": "stream",
     "text": [
      "100%|██████████| 1250/1250 [01:52<00:00, 11.10it/s]\n"
     ]
    },
    {
     "name": "stdout",
     "output_type": "stream",
     "text": [
      "Train Loss: 0.166934, Acc: 0.599600\n",
      "Test Loss: 0.164912, Acc: 0.622335\n",
      "epoch 10\n"
     ]
    },
    {
     "name": "stderr",
     "output_type": "stream",
     "text": [
      "100%|██████████| 1250/1250 [01:52<00:00, 11.09it/s]\n"
     ]
    },
    {
     "name": "stdout",
     "output_type": "stream",
     "text": [
      "Train Loss: 0.165075, Acc: 0.604200\n",
      "Test Loss: 0.164571, Acc: 0.627411\n",
      "epoch 11\n"
     ]
    },
    {
     "name": "stderr",
     "output_type": "stream",
     "text": [
      "100%|██████████| 1250/1250 [01:53<00:00, 11.06it/s]\n"
     ]
    },
    {
     "name": "stdout",
     "output_type": "stream",
     "text": [
      "Train Loss: 0.161319, Acc: 0.628800\n",
      "Test Loss: 0.163500, Acc: 0.607107\n",
      "epoch 12\n"
     ]
    },
    {
     "name": "stderr",
     "output_type": "stream",
     "text": [
      "100%|██████████| 1250/1250 [01:52<00:00, 11.13it/s]\n"
     ]
    },
    {
     "name": "stdout",
     "output_type": "stream",
     "text": [
      "Train Loss: 0.155435, Acc: 0.659800\n",
      "Test Loss: 0.166630, Acc: 0.612183\n",
      "epoch 13\n"
     ]
    },
    {
     "name": "stderr",
     "output_type": "stream",
     "text": [
      "100%|██████████| 1250/1250 [02:12<00:00,  9.44it/s]\n"
     ]
    },
    {
     "name": "stdout",
     "output_type": "stream",
     "text": [
      "Train Loss: 0.149800, Acc: 0.682200\n",
      "Test Loss: 0.148728, Acc: 0.689340\n",
      "epoch 14\n"
     ]
    },
    {
     "name": "stderr",
     "output_type": "stream",
     "text": [
      "100%|██████████| 1250/1250 [01:57<00:00, 10.65it/s]\n"
     ]
    },
    {
     "name": "stdout",
     "output_type": "stream",
     "text": [
      "Train Loss: 0.140545, Acc: 0.716800\n",
      "Test Loss: 0.164176, Acc: 0.627411\n",
      "epoch 15\n"
     ]
    },
    {
     "name": "stderr",
     "output_type": "stream",
     "text": [
      "100%|██████████| 1250/1250 [01:58<00:00, 10.55it/s]\n"
     ]
    },
    {
     "name": "stdout",
     "output_type": "stream",
     "text": [
      "Train Loss: 0.133604, Acc: 0.737000\n",
      "Test Loss: 0.134865, Acc: 0.742132\n",
      "epoch 16\n"
     ]
    },
    {
     "name": "stderr",
     "output_type": "stream",
     "text": [
      "100%|██████████| 1250/1250 [01:55<00:00, 10.78it/s]\n"
     ]
    },
    {
     "name": "stdout",
     "output_type": "stream",
     "text": [
      "Train Loss: 0.125214, Acc: 0.763000\n",
      "Test Loss: 0.138514, Acc: 0.739086\n",
      "epoch 17\n"
     ]
    },
    {
     "name": "stderr",
     "output_type": "stream",
     "text": [
      "100%|██████████| 1250/1250 [01:54<00:00, 10.89it/s]\n"
     ]
    },
    {
     "name": "stdout",
     "output_type": "stream",
     "text": [
      "Train Loss: 0.114884, Acc: 0.792000\n",
      "Test Loss: 0.132782, Acc: 0.758376\n",
      "epoch 18\n"
     ]
    },
    {
     "name": "stderr",
     "output_type": "stream",
     "text": [
      "100%|██████████| 1250/1250 [01:51<00:00, 11.21it/s]\n"
     ]
    },
    {
     "name": "stdout",
     "output_type": "stream",
     "text": [
      "Train Loss: 0.107883, Acc: 0.817600\n",
      "Test Loss: 0.133053, Acc: 0.750254\n",
      "epoch 19\n"
     ]
    },
    {
     "name": "stderr",
     "output_type": "stream",
     "text": [
      "100%|██████████| 1250/1250 [01:53<00:00, 11.02it/s]\n"
     ]
    },
    {
     "name": "stdout",
     "output_type": "stream",
     "text": [
      "Train Loss: 0.100720, Acc: 0.824400\n",
      "Test Loss: 0.129290, Acc: 0.770558\n",
      "epoch 20\n"
     ]
    },
    {
     "name": "stderr",
     "output_type": "stream",
     "text": [
      "100%|██████████| 1250/1250 [01:55<00:00, 10.86it/s]\n"
     ]
    },
    {
     "name": "stdout",
     "output_type": "stream",
     "text": [
      "Train Loss: 0.094181, Acc: 0.832000\n",
      "Test Loss: 0.133584, Acc: 0.759391\n",
      "epoch 21\n"
     ]
    },
    {
     "name": "stderr",
     "output_type": "stream",
     "text": [
      "100%|██████████| 1250/1250 [01:51<00:00, 11.23it/s]\n"
     ]
    },
    {
     "name": "stdout",
     "output_type": "stream",
     "text": [
      "Train Loss: 0.089097, Acc: 0.841200\n",
      "Test Loss: 0.120859, Acc: 0.769543\n",
      "epoch 22\n"
     ]
    },
    {
     "name": "stderr",
     "output_type": "stream",
     "text": [
      "100%|██████████| 1250/1250 [01:50<00:00, 11.27it/s]\n"
     ]
    },
    {
     "name": "stdout",
     "output_type": "stream",
     "text": [
      "Train Loss: 0.082485, Acc: 0.861400\n",
      "Test Loss: 0.159123, Acc: 0.769543\n",
      "epoch 23\n"
     ]
    },
    {
     "name": "stderr",
     "output_type": "stream",
     "text": [
      "100%|██████████| 1250/1250 [01:51<00:00, 11.22it/s]\n"
     ]
    },
    {
     "name": "stdout",
     "output_type": "stream",
     "text": [
      "Train Loss: 0.075939, Acc: 0.872400\n",
      "Test Loss: 0.129479, Acc: 0.784772\n",
      "epoch 24\n"
     ]
    },
    {
     "name": "stderr",
     "output_type": "stream",
     "text": [
      "100%|██████████| 1250/1250 [01:51<00:00, 11.19it/s]\n"
     ]
    },
    {
     "name": "stdout",
     "output_type": "stream",
     "text": [
      "Train Loss: 0.071096, Acc: 0.879200\n",
      "Test Loss: 0.132211, Acc: 0.785787\n",
      "epoch 25\n"
     ]
    },
    {
     "name": "stderr",
     "output_type": "stream",
     "text": [
      "100%|██████████| 1250/1250 [01:52<00:00, 11.10it/s]\n"
     ]
    },
    {
     "name": "stdout",
     "output_type": "stream",
     "text": [
      "Train Loss: 0.065698, Acc: 0.888200\n",
      "Test Loss: 0.133345, Acc: 0.795939\n",
      "epoch 26\n"
     ]
    },
    {
     "name": "stderr",
     "output_type": "stream",
     "text": [
      "100%|██████████| 1250/1250 [01:53<00:00, 11.01it/s]\n"
     ]
    },
    {
     "name": "stdout",
     "output_type": "stream",
     "text": [
      "Train Loss: 0.062269, Acc: 0.898000\n",
      "Test Loss: 0.146067, Acc: 0.800000\n",
      "epoch 27\n"
     ]
    },
    {
     "name": "stderr",
     "output_type": "stream",
     "text": [
      "100%|██████████| 1250/1250 [01:53<00:00, 11.00it/s]\n"
     ]
    },
    {
     "name": "stdout",
     "output_type": "stream",
     "text": [
      "Train Loss: 0.057117, Acc: 0.901000\n",
      "Test Loss: 0.154155, Acc: 0.785787\n",
      "epoch 28\n"
     ]
    },
    {
     "name": "stderr",
     "output_type": "stream",
     "text": [
      "100%|██████████| 1250/1250 [01:51<00:00, 11.19it/s]\n"
     ]
    },
    {
     "name": "stdout",
     "output_type": "stream",
     "text": [
      "Train Loss: 0.054375, Acc: 0.909800\n",
      "Test Loss: 0.118628, Acc: 0.800000\n",
      "epoch 29\n"
     ]
    },
    {
     "name": "stderr",
     "output_type": "stream",
     "text": [
      "100%|██████████| 1250/1250 [01:51<00:00, 11.17it/s]\n"
     ]
    },
    {
     "name": "stdout",
     "output_type": "stream",
     "text": [
      "Train Loss: 0.047881, Acc: 0.923600\n",
      "Test Loss: 0.137761, Acc: 0.800000\n",
      "epoch 30\n"
     ]
    },
    {
     "name": "stderr",
     "output_type": "stream",
     "text": [
      "100%|██████████| 1250/1250 [01:51<00:00, 11.21it/s]\n"
     ]
    },
    {
     "name": "stdout",
     "output_type": "stream",
     "text": [
      "Train Loss: 0.048013, Acc: 0.926800\n",
      "Test Loss: 0.122126, Acc: 0.803046\n",
      "epoch 31\n"
     ]
    },
    {
     "name": "stderr",
     "output_type": "stream",
     "text": [
      "100%|██████████| 1250/1250 [01:52<00:00, 11.07it/s]\n"
     ]
    },
    {
     "name": "stdout",
     "output_type": "stream",
     "text": [
      "Train Loss: 0.041060, Acc: 0.934800\n",
      "Test Loss: 0.158428, Acc: 0.766497\n",
      "epoch 32\n"
     ]
    },
    {
     "name": "stderr",
     "output_type": "stream",
     "text": [
      "100%|██████████| 1250/1250 [01:53<00:00, 11.03it/s]\n"
     ]
    },
    {
     "name": "stdout",
     "output_type": "stream",
     "text": [
      "Train Loss: 0.040237, Acc: 0.935400\n",
      "Test Loss: 0.137279, Acc: 0.811168\n",
      "epoch 33\n"
     ]
    },
    {
     "name": "stderr",
     "output_type": "stream",
     "text": [
      "100%|██████████| 1250/1250 [01:51<00:00, 11.17it/s]\n"
     ]
    },
    {
     "name": "stdout",
     "output_type": "stream",
     "text": [
      "Train Loss: 0.035292, Acc: 0.948200\n",
      "Test Loss: 0.156966, Acc: 0.802030\n",
      "epoch 34\n"
     ]
    },
    {
     "name": "stderr",
     "output_type": "stream",
     "text": [
      "100%|██████████| 1250/1250 [01:53<00:00, 11.06it/s]\n"
     ]
    },
    {
     "name": "stdout",
     "output_type": "stream",
     "text": [
      "Train Loss: 0.033389, Acc: 0.947000\n",
      "Test Loss: 0.159270, Acc: 0.806091\n",
      "epoch 35\n"
     ]
    },
    {
     "name": "stderr",
     "output_type": "stream",
     "text": [
      "100%|██████████| 1250/1250 [01:54<00:00, 10.96it/s]\n"
     ]
    },
    {
     "name": "stdout",
     "output_type": "stream",
     "text": [
      "Train Loss: 0.030776, Acc: 0.950600\n",
      "Test Loss: 0.164382, Acc: 0.810152\n",
      "epoch 36\n"
     ]
    },
    {
     "name": "stderr",
     "output_type": "stream",
     "text": [
      "100%|██████████| 1250/1250 [01:52<00:00, 11.12it/s]\n"
     ]
    },
    {
     "name": "stdout",
     "output_type": "stream",
     "text": [
      "Train Loss: 0.031511, Acc: 0.954200\n",
      "Test Loss: 0.147989, Acc: 0.798985\n",
      "epoch 37\n"
     ]
    },
    {
     "name": "stderr",
     "output_type": "stream",
     "text": [
      "100%|██████████| 1250/1250 [01:47<00:00, 11.60it/s]\n"
     ]
    },
    {
     "name": "stdout",
     "output_type": "stream",
     "text": [
      "Train Loss: 0.028197, Acc: 0.959000\n",
      "Test Loss: 0.177395, Acc: 0.797970\n",
      "epoch 38\n"
     ]
    },
    {
     "name": "stderr",
     "output_type": "stream",
     "text": [
      "100%|██████████| 1250/1250 [01:49<00:00, 11.47it/s]\n"
     ]
    },
    {
     "name": "stdout",
     "output_type": "stream",
     "text": [
      "Train Loss: 0.023004, Acc: 0.964000\n",
      "Test Loss: 0.181104, Acc: 0.803046\n",
      "epoch 39\n"
     ]
    },
    {
     "name": "stderr",
     "output_type": "stream",
     "text": [
      "100%|██████████| 1250/1250 [01:52<00:00, 11.11it/s]\n"
     ]
    },
    {
     "name": "stdout",
     "output_type": "stream",
     "text": [
      "Train Loss: 0.025392, Acc: 0.963000\n",
      "Test Loss: 0.211964, Acc: 0.803046\n",
      "epoch 40\n"
     ]
    },
    {
     "name": "stderr",
     "output_type": "stream",
     "text": [
      "100%|██████████| 1250/1250 [01:53<00:00, 11.04it/s]\n"
     ]
    },
    {
     "name": "stdout",
     "output_type": "stream",
     "text": [
      "Train Loss: 0.022601, Acc: 0.966400\n",
      "Test Loss: 0.211625, Acc: 0.804061\n",
      "epoch 41\n"
     ]
    },
    {
     "name": "stderr",
     "output_type": "stream",
     "text": [
      "100%|██████████| 1250/1250 [01:53<00:00, 11.00it/s]\n"
     ]
    },
    {
     "name": "stdout",
     "output_type": "stream",
     "text": [
      "Train Loss: 0.017063, Acc: 0.977400\n",
      "Test Loss: 0.217699, Acc: 0.803046\n",
      "epoch 42\n"
     ]
    },
    {
     "name": "stderr",
     "output_type": "stream",
     "text": [
      "100%|██████████| 1250/1250 [01:56<00:00, 10.77it/s]\n"
     ]
    },
    {
     "name": "stdout",
     "output_type": "stream",
     "text": [
      "Train Loss: 0.017732, Acc: 0.975000\n",
      "Test Loss: 0.224735, Acc: 0.794924\n",
      "epoch 43\n"
     ]
    },
    {
     "name": "stderr",
     "output_type": "stream",
     "text": [
      "100%|██████████| 1250/1250 [01:52<00:00, 11.15it/s]\n"
     ]
    },
    {
     "name": "stdout",
     "output_type": "stream",
     "text": [
      "Train Loss: 0.016687, Acc: 0.977400\n",
      "Test Loss: 0.220338, Acc: 0.815228\n",
      "epoch 44\n"
     ]
    },
    {
     "name": "stderr",
     "output_type": "stream",
     "text": [
      "100%|██████████| 1250/1250 [01:52<00:00, 11.12it/s]\n"
     ]
    },
    {
     "name": "stdout",
     "output_type": "stream",
     "text": [
      "Train Loss: 0.019382, Acc: 0.971400\n",
      "Test Loss: 0.183156, Acc: 0.793909\n",
      "epoch 45\n"
     ]
    },
    {
     "name": "stderr",
     "output_type": "stream",
     "text": [
      "100%|██████████| 1250/1250 [01:52<00:00, 11.15it/s]\n"
     ]
    },
    {
     "name": "stdout",
     "output_type": "stream",
     "text": [
      "Train Loss: 0.018909, Acc: 0.973600\n",
      "Test Loss: 0.195077, Acc: 0.803046\n",
      "epoch 46\n"
     ]
    },
    {
     "name": "stderr",
     "output_type": "stream",
     "text": [
      "100%|██████████| 1250/1250 [01:54<00:00, 10.95it/s]\n"
     ]
    },
    {
     "name": "stdout",
     "output_type": "stream",
     "text": [
      "Train Loss: 0.015976, Acc: 0.979600\n",
      "Test Loss: 0.221579, Acc: 0.800000\n",
      "epoch 47\n"
     ]
    },
    {
     "name": "stderr",
     "output_type": "stream",
     "text": [
      "100%|██████████| 1250/1250 [01:55<00:00, 10.87it/s]\n"
     ]
    },
    {
     "name": "stdout",
     "output_type": "stream",
     "text": [
      "Train Loss: 0.015326, Acc: 0.979600\n",
      "Test Loss: 0.237603, Acc: 0.790863\n",
      "epoch 48\n"
     ]
    },
    {
     "name": "stderr",
     "output_type": "stream",
     "text": [
      "100%|██████████| 1250/1250 [01:57<00:00, 10.61it/s]\n"
     ]
    },
    {
     "name": "stdout",
     "output_type": "stream",
     "text": [
      "Train Loss: 0.012599, Acc: 0.985000\n",
      "Test Loss: 0.242808, Acc: 0.800000\n",
      "epoch 49\n"
     ]
    },
    {
     "name": "stderr",
     "output_type": "stream",
     "text": [
      "100%|██████████| 1250/1250 [01:51<00:00, 11.17it/s]\n"
     ]
    },
    {
     "name": "stdout",
     "output_type": "stream",
     "text": [
      "Train Loss: 0.016674, Acc: 0.978200\n",
      "Test Loss: 0.216856, Acc: 0.808122\n",
      "epoch 50\n"
     ]
    },
    {
     "name": "stderr",
     "output_type": "stream",
     "text": [
      "100%|██████████| 1250/1250 [01:51<00:00, 11.26it/s]\n"
     ]
    },
    {
     "name": "stdout",
     "output_type": "stream",
     "text": [
      "Train Loss: 0.012342, Acc: 0.983600\n",
      "Test Loss: 0.236306, Acc: 0.810152\n"
     ]
    }
   ],
   "source": [
    "epoch=50\n",
    "\n",
    "if torch.cuda.is_available():\n",
    "    model.cuda()\n",
    "\n",
    "\n",
    "model.train()\n",
    "\n",
    "loss_list = []\n",
    "accuracy_list = []\n",
    "tr_loss_list = []\n",
    "tr_accuracy_list = []\n",
    "#先把混淆矩陣要用得list加在前面\n",
    "y_true=[]\n",
    "y_pred=[]\n",
    "\n",
    "for i in range(epoch):\n",
    "    print('epoch {}'.format(i + 1))\n",
    "    train_loss = 0.\n",
    "    train_acc = 0.\n",
    "    pbar=tqdm(total=len(train_dataloader))\n",
    "    for img, label in train_dataloader:\n",
    "        img = Variable(img).cuda()\n",
    "        label = Variable(label).cuda()\n",
    "        optimizer.zero_grad()\n",
    "        output = model(img)\n",
    "        loss = loss_func(output, label)\n",
    "        train_loss += loss.item()\n",
    "        pred = torch.max(output, 1)[1]\n",
    "        train_correct = (pred == label).sum()\n",
    "        train_acc += train_correct.item()\n",
    "        loss.backward()\n",
    "        optimizer.step()\n",
    "        pbar.update(1)\n",
    "    pbar.close()\n",
    "\n",
    "    print('Train Loss: {:.6f}, Acc: {:.6f}'.format(train_loss / (len(train_datasets)), train_acc / (len(train_datasets))))\n",
    "    tr_loss_list.append(train_loss / (len(train_datasets)))\n",
    "    tr_accuracy_list.append(100 * train_acc / (len(train_datasets)))\n",
    "    # evaluation--------------------------------\n",
    "    model.eval()\n",
    "    eval_loss = 0.\n",
    "    eval_acc = 0.\n",
    "    for img, label in val_dataloader:\n",
    "        img = Variable(img).cuda()\n",
    "        label = Variable(label).cuda()\n",
    "        out = model(img)\n",
    "        loss = loss_func(out, label)\n",
    "        eval_loss += loss.item()\n",
    "        pred = torch.max(out, 1)[1]\n",
    "        num_correct = (pred == label).sum()\n",
    "        eval_acc += num_correct.item()\n",
    "        \n",
    "        #混淆矩陣要用的\n",
    "        y_true.extend(label.cpu().tolist())\n",
    "        y_pred.extend(pred.cpu().tolist())\n",
    "    print('Test Loss: {:.6f}, Acc: {:.6f}'.format(eval_loss / (len(val_datasets)), eval_acc / (len(val_datasets))))\n",
    "    loss_list.append(eval_loss / (len(val_datasets)))\n",
    "    accuracy_list.append(100 * eval_acc / (len(val_datasets)))"
   ]
  },
  {
   "cell_type": "code",
   "execution_count": 13,
   "metadata": {},
   "outputs": [
    {
     "data": {
      "image/png": "[encoded data removed]",
      "text/plain": [
       "<Figure size 640x480 with 2 Axes>"
      ]
     },
     "metadata": {},
     "output_type": "display_data"
    }
   ],
   "source": [
    "import matplotlib.pyplot as plt\n",
    "\n",
    "x1 = range(0, 50)\n",
    "x2 = range(0, 50)\n",
    "y1 = accuracy_list\n",
    "y2 = loss_list\n",
    "plt.subplot(2, 1, 1)\n",
    "plt.plot(x1, y1, 'o-')\n",
    "plt.title('Test accuracy vs. epoches')\n",
    "plt.ylabel('Test accuracy')\n",
    "plt.subplot(2, 1, 2)\n",
    "plt.plot(x2, y2, '.-')\n",
    "plt.xlabel('Test loss vs. epoches')\n",
    "plt.ylabel('Test loss')\n",
    "plt.show()\n",
    "# plt.savefig(\"accuracy_loss.jpg\")\n"
   ]
  },
  {
   "cell_type": "code",
   "execution_count": 14,
   "metadata": {},
   "outputs": [
    {
     "data": {
      "image/png": "[encoded data removed]",
      "text/plain": [
       "<Figure size 640x480 with 1 Axes>"
      ]
     },
     "metadata": {},
     "output_type": "display_data"
    }
   ],
   "source": [
    "#distplot\n",
    "import matplotlib.pyplot as plt\n",
    "epochs =[i+1 for i in range(50)]\n",
    "plt.plot(epochs,tr_loss_list, color='red', label='Train')\n",
    "plt.plot(epochs,loss_list, '--', color='blue', label='Valid')\n",
    "#plt.title('CrossEntropy') # title\n",
    "plt.ylabel(\"Loss\") # y label\n",
    "plt.xlabel(\"Epochs\") # x label\n",
    "plt.legend() #圖例\n",
    "#plt.savefig('.\\\\Model\\\\0618\\\\t_model_' + str(isbalence) + 'bz' + str(batch_sizes) + '_' + str(num_epochs) + '.png') #儲存圖檔\n",
    "#plt.savefig('.\\\\Model\\\\0618\\\\實驗' + str(testnum) + '.png') #儲存圖檔\n",
    "plt.show()"
   ]
  },
  {
   "cell_type": "code",
   "execution_count": 15,
   "metadata": {},
   "outputs": [
    {
     "data": {
      "image/png": "[encoded data removed]",
      "text/plain": [
       "<Figure size 640x480 with 1 Axes>"
      ]
     },
     "metadata": {},
     "output_type": "display_data"
    }
   ],
   "source": [
    "#distplot\n",
    "import matplotlib.pyplot as plt\n",
    "epochs =[i+1 for i in range(50)]\n",
    "plt.plot(epochs,tr_accuracy_list, color='red', label='Train')\n",
    "plt.plot(epochs,accuracy_list, '--', color='blue', label='Valid')\n",
    "#plt.title('CrossEntropy') # title\n",
    "plt.ylabel(\"accuracy\") # y label\n",
    "plt.xlabel(\"Epochs\") # x label\n",
    "plt.legend() #圖例\n",
    "#plt.savefig('.\\\\Model\\\\0618\\\\t_model_' + str(isbalence) + 'bz' + str(batch_sizes) + '_' + str(num_epochs) + '.png') #儲存圖檔\n",
    "#plt.savefig('.\\\\Model\\\\0618\\\\實驗' + str(testnum) + '.png') #儲存圖檔\n",
    "plt.show()"
   ]
  },
  {
   "cell_type": "code",
   "execution_count": 12,
   "metadata": {},
   "outputs": [],
   "source": [
    "torch.save(model.state_dict(), \"Resnet18_0809.pt\")\n"
   ]
  },
  {
   "cell_type": "code",
   "execution_count": 16,
   "metadata": {},
   "outputs": [],
   "source": [
    "#混淆矩陣\n",
    "from sklearn.metrics import confusion_matrix\n",
    "\n",
    "cm = confusion_matrix(y_true, y_pred)"
   ]
  },
  {
   "cell_type": "code",
   "execution_count": 18,
   "metadata": {},
   "outputs": [
    {
     "name": "stdout",
     "output_type": "stream",
     "text": [
      "Accuracy: 35.982\n",
      "FIT precision: 0.7300933552992861\n",
      "FIT recall: 0.74452\n",
      "n_FIT precision: 0.7311416063310322\n",
      "n_FIT recall: 0.7162474226804124\n",
      "F1 0.7372361072602686\n"
     ]
    }
   ],
   "source": [
    "\n",
    "tp=cm[0][0]\n",
    "fn=cm[0][1]\n",
    "fp=cm[1][0]\n",
    "tn=cm[1][1]\n",
    "print(\"Accuracy:\",(tp+tn)/1000 )\n",
    "\n",
    "p_presicion=tp/(tp+fp)\n",
    "p_recall=tp/(tp+fn)\n",
    "print('FIT precision:',p_presicion)\n",
    "print('FIT recall:',p_recall)\n",
    "\n",
    "n_presicion=tn/(tn+fn)\n",
    "n_recall=tn/(fp+tn)\n",
    "print('n_FIT precision:',n_presicion)\n",
    "print('n_FIT recall:',n_recall)\n",
    "\n",
    "print(\"F1\",(2*p_presicion*p_recall)/(p_presicion+p_recall))"
   ]
  },
  {
   "cell_type": "code",
   "execution_count": 19,
   "metadata": {},
   "outputs": [
    {
     "name": "stdout",
     "output_type": "stream",
     "text": [
      "[0.      0.25548 1.     ] [0.         0.71624742 1.        ] [2 1 0]\n"
     ]
    },
    {
     "data": {
      "image/png": "[encoded data removed]",
      "text/plain": [
       "<Figure size 640x480 with 1 Axes>"
      ]
     },
     "metadata": {},
     "output_type": "display_data"
    }
   ],
   "source": [
    "from sklearn.metrics import roc_curve, roc_auc_score, auc\n",
    "import matplotlib.pyplot as plt\n",
    "fpr, tpr, threshold = roc_curve(y_true, y_pred)\n",
    "print(fpr, tpr, threshold)\n",
    "\n",
    "auc1 = auc(fpr, tpr)\n",
    "## Plot the result\n",
    "plt.title('Receiver Operating Characteristic')\n",
    "plt.plot(fpr, tpr, color = 'orange', label = 'AUC = %0.2f' % auc1)\n",
    "plt.legend(loc = 'lower right')\n",
    "plt.plot([0, 1], [0, 1],'r--')\n",
    "plt.xlim([0, 1])\n",
    "plt.ylim([0, 1])\n",
    "plt.ylabel('True Positive Rate')\n",
    "plt.xlabel('False Positive Rate')\n",
    "plt.show()    "
   ]
  }
 ],
 "metadata": {
  "kernelspec": {
   "display_name": "pytorch8019",
   "language": "python",
   "name": "python3"
  },
  "language_info": {
   "codemirror_mode": {
    "name": "ipython",
    "version": 3
   },
   "file_extension": ".py",
   "mimetype": "text/x-python",
   "name": "python",
   "nbconvert_exporter": "python",
   "pygments_lexer": "ipython3",
   "version": "3.7.15"
  },
  "orig_nbformat": 4,
  "vscode": {
   "interpreter": {
    "hash": "609f9dcc469a6731ee35bec773f6562b5398450b68d44cc1868dce1f8bad1f2e"
   }
  }
 },
 "nbformat": 4,
 "nbformat_minor": 2
}
